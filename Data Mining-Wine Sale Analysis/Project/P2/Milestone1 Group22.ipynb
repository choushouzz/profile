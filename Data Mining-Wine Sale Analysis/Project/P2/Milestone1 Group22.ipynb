{
  "nbformat": 4,
  "nbformat_minor": 0,
  "metadata": {
    "colab": {
      "name": "Milestone1.ipynb",
      "provenance": [],
      "collapsed_sections": []
    },
    "kernelspec": {
      "name": "python3",
      "display_name": "Python 3"
    },
    "language_info": {
      "name": "python"
    }
  },
  "cells": [
    {
      "cell_type": "markdown",
      "metadata": {
        "id": "HpQYnBCmjb1i"
      },
      "source": [
        "Objetive:\n",
        "Our goal is to find how quantity of each item in each province, changes from each month and year. During milestone 1, we try to finish all the preprocessing steps and draw necessary graphs for insights. We will try to build the model and make predictions in milestone 2 and later stages. "
      ]
    },
    {
      "cell_type": "code",
      "metadata": {
        "colab": {
          "resources": {
            "http://localhost:8080/nbextensions/google.colab/files.js": {
              "data": "Ly8gQ29weXJpZ2h0IDIwMTcgR29vZ2xlIExMQwovLwovLyBMaWNlbnNlZCB1bmRlciB0aGUgQXBhY2hlIExpY2Vuc2UsIFZlcnNpb24gMi4wICh0aGUgIkxpY2Vuc2UiKTsKLy8geW91IG1heSBub3QgdXNlIHRoaXMgZmlsZSBleGNlcHQgaW4gY29tcGxpYW5jZSB3aXRoIHRoZSBMaWNlbnNlLgovLyBZb3UgbWF5IG9idGFpbiBhIGNvcHkgb2YgdGhlIExpY2Vuc2UgYXQKLy8KLy8gICAgICBodHRwOi8vd3d3LmFwYWNoZS5vcmcvbGljZW5zZXMvTElDRU5TRS0yLjAKLy8KLy8gVW5sZXNzIHJlcXVpcmVkIGJ5IGFwcGxpY2FibGUgbGF3IG9yIGFncmVlZCB0byBpbiB3cml0aW5nLCBzb2Z0d2FyZQovLyBkaXN0cmlidXRlZCB1bmRlciB0aGUgTGljZW5zZSBpcyBkaXN0cmlidXRlZCBvbiBhbiAiQVMgSVMiIEJBU0lTLAovLyBXSVRIT1VUIFdBUlJBTlRJRVMgT1IgQ09ORElUSU9OUyBPRiBBTlkgS0lORCwgZWl0aGVyIGV4cHJlc3Mgb3IgaW1wbGllZC4KLy8gU2VlIHRoZSBMaWNlbnNlIGZvciB0aGUgc3BlY2lmaWMgbGFuZ3VhZ2UgZ292ZXJuaW5nIHBlcm1pc3Npb25zIGFuZAovLyBsaW1pdGF0aW9ucyB1bmRlciB0aGUgTGljZW5zZS4KCi8qKgogKiBAZmlsZW92ZXJ2aWV3IEhlbHBlcnMgZm9yIGdvb2dsZS5jb2xhYiBQeXRob24gbW9kdWxlLgogKi8KKGZ1bmN0aW9uKHNjb3BlKSB7CmZ1bmN0aW9uIHNwYW4odGV4dCwgc3R5bGVBdHRyaWJ1dGVzID0ge30pIHsKICBjb25zdCBlbGVtZW50ID0gZG9jdW1lbnQuY3JlYXRlRWxlbWVudCgnc3BhbicpOwogIGVsZW1lbnQudGV4dENvbnRlbnQgPSB0ZXh0OwogIGZvciAoY29uc3Qga2V5IG9mIE9iamVjdC5rZXlzKHN0eWxlQXR0cmlidXRlcykpIHsKICAgIGVsZW1lbnQuc3R5bGVba2V5XSA9IHN0eWxlQXR0cmlidXRlc1trZXldOwogIH0KICByZXR1cm4gZWxlbWVudDsKfQoKLy8gTWF4IG51bWJlciBvZiBieXRlcyB3aGljaCB3aWxsIGJlIHVwbG9hZGVkIGF0IGEgdGltZS4KY29uc3QgTUFYX1BBWUxPQURfU0laRSA9IDEwMCAqIDEwMjQ7CgpmdW5jdGlvbiBfdXBsb2FkRmlsZXMoaW5wdXRJZCwgb3V0cHV0SWQpIHsKICBjb25zdCBzdGVwcyA9IHVwbG9hZEZpbGVzU3RlcChpbnB1dElkLCBvdXRwdXRJZCk7CiAgY29uc3Qgb3V0cHV0RWxlbWVudCA9IGRvY3VtZW50LmdldEVsZW1lbnRCeUlkKG91dHB1dElkKTsKICAvLyBDYWNoZSBzdGVwcyBvbiB0aGUgb3V0cHV0RWxlbWVudCB0byBtYWtlIGl0IGF2YWlsYWJsZSBmb3IgdGhlIG5leHQgY2FsbAogIC8vIHRvIHVwbG9hZEZpbGVzQ29udGludWUgZnJvbSBQeXRob24uCiAgb3V0cHV0RWxlbWVudC5zdGVwcyA9IHN0ZXBzOwoKICByZXR1cm4gX3VwbG9hZEZpbGVzQ29udGludWUob3V0cHV0SWQpOwp9CgovLyBUaGlzIGlzIHJvdWdobHkgYW4gYXN5bmMgZ2VuZXJhdG9yIChub3Qgc3VwcG9ydGVkIGluIHRoZSBicm93c2VyIHlldCksCi8vIHdoZXJlIHRoZXJlIGFyZSBtdWx0aXBsZSBhc3luY2hyb25vdXMgc3RlcHMgYW5kIHRoZSBQeXRob24gc2lkZSBpcyBnb2luZwovLyB0byBwb2xsIGZvciBjb21wbGV0aW9uIG9mIGVhY2ggc3RlcC4KLy8gVGhpcyB1c2VzIGEgUHJvbWlzZSB0byBibG9jayB0aGUgcHl0aG9uIHNpZGUgb24gY29tcGxldGlvbiBvZiBlYWNoIHN0ZXAsCi8vIHRoZW4gcGFzc2VzIHRoZSByZXN1bHQgb2YgdGhlIHByZXZpb3VzIHN0ZXAgYXMgdGhlIGlucHV0IHRvIHRoZSBuZXh0IHN0ZXAuCmZ1bmN0aW9uIF91cGxvYWRGaWxlc0NvbnRpbnVlKG91dHB1dElkKSB7CiAgY29uc3Qgb3V0cHV0RWxlbWVudCA9IGRvY3VtZW50LmdldEVsZW1lbnRCeUlkKG91dHB1dElkKTsKICBjb25zdCBzdGVwcyA9IG91dHB1dEVsZW1lbnQuc3RlcHM7CgogIGNvbnN0IG5leHQgPSBzdGVwcy5uZXh0KG91dHB1dEVsZW1lbnQubGFzdFByb21pc2VWYWx1ZSk7CiAgcmV0dXJuIFByb21pc2UucmVzb2x2ZShuZXh0LnZhbHVlLnByb21pc2UpLnRoZW4oKHZhbHVlKSA9PiB7CiAgICAvLyBDYWNoZSB0aGUgbGFzdCBwcm9taXNlIHZhbHVlIHRvIG1ha2UgaXQgYXZhaWxhYmxlIHRvIHRoZSBuZXh0CiAgICAvLyBzdGVwIG9mIHRoZSBnZW5lcmF0b3IuCiAgICBvdXRwdXRFbGVtZW50Lmxhc3RQcm9taXNlVmFsdWUgPSB2YWx1ZTsKICAgIHJldHVybiBuZXh0LnZhbHVlLnJlc3BvbnNlOwogIH0pOwp9CgovKioKICogR2VuZXJhdG9yIGZ1bmN0aW9uIHdoaWNoIGlzIGNhbGxlZCBiZXR3ZWVuIGVhY2ggYXN5bmMgc3RlcCBvZiB0aGUgdXBsb2FkCiAqIHByb2Nlc3MuCiAqIEBwYXJhbSB7c3RyaW5nfSBpbnB1dElkIEVsZW1lbnQgSUQgb2YgdGhlIGlucHV0IGZpbGUgcGlja2VyIGVsZW1lbnQuCiAqIEBwYXJhbSB7c3RyaW5nfSBvdXRwdXRJZCBFbGVtZW50IElEIG9mIHRoZSBvdXRwdXQgZGlzcGxheS4KICogQHJldHVybiB7IUl0ZXJhYmxlPCFPYmplY3Q+fSBJdGVyYWJsZSBvZiBuZXh0IHN0ZXBzLgogKi8KZnVuY3Rpb24qIHVwbG9hZEZpbGVzU3RlcChpbnB1dElkLCBvdXRwdXRJZCkgewogIGNvbnN0IGlucHV0RWxlbWVudCA9IGRvY3VtZW50LmdldEVsZW1lbnRCeUlkKGlucHV0SWQpOwogIGlucHV0RWxlbWVudC5kaXNhYmxlZCA9IGZhbHNlOwoKICBjb25zdCBvdXRwdXRFbGVtZW50ID0gZG9jdW1lbnQuZ2V0RWxlbWVudEJ5SWQob3V0cHV0SWQpOwogIG91dHB1dEVsZW1lbnQuaW5uZXJIVE1MID0gJyc7CgogIGNvbnN0IHBpY2tlZFByb21pc2UgPSBuZXcgUHJvbWlzZSgocmVzb2x2ZSkgPT4gewogICAgaW5wdXRFbGVtZW50LmFkZEV2ZW50TGlzdGVuZXIoJ2NoYW5nZScsIChlKSA9PiB7CiAgICAgIHJlc29sdmUoZS50YXJnZXQuZmlsZXMpOwogICAgfSk7CiAgfSk7CgogIGNvbnN0IGNhbmNlbCA9IGRvY3VtZW50LmNyZWF0ZUVsZW1lbnQoJ2J1dHRvbicpOwogIGlucHV0RWxlbWVudC5wYXJlbnRFbGVtZW50LmFwcGVuZENoaWxkKGNhbmNlbCk7CiAgY2FuY2VsLnRleHRDb250ZW50ID0gJ0NhbmNlbCB1cGxvYWQnOwogIGNvbnN0IGNhbmNlbFByb21pc2UgPSBuZXcgUHJvbWlzZSgocmVzb2x2ZSkgPT4gewogICAgY2FuY2VsLm9uY2xpY2sgPSAoKSA9PiB7CiAgICAgIHJlc29sdmUobnVsbCk7CiAgICB9OwogIH0pOwoKICAvLyBXYWl0IGZvciB0aGUgdXNlciB0byBwaWNrIHRoZSBmaWxlcy4KICBjb25zdCBmaWxlcyA9IHlpZWxkIHsKICAgIHByb21pc2U6IFByb21pc2UucmFjZShbcGlja2VkUHJvbWlzZSwgY2FuY2VsUHJvbWlzZV0pLAogICAgcmVzcG9uc2U6IHsKICAgICAgYWN0aW9uOiAnc3RhcnRpbmcnLAogICAgfQogIH07CgogIGNhbmNlbC5yZW1vdmUoKTsKCiAgLy8gRGlzYWJsZSB0aGUgaW5wdXQgZWxlbWVudCBzaW5jZSBmdXJ0aGVyIHBpY2tzIGFyZSBub3QgYWxsb3dlZC4KICBpbnB1dEVsZW1lbnQuZGlzYWJsZWQgPSB0cnVlOwoKICBpZiAoIWZpbGVzKSB7CiAgICByZXR1cm4gewogICAgICByZXNwb25zZTogewogICAgICAgIGFjdGlvbjogJ2NvbXBsZXRlJywKICAgICAgfQogICAgfTsKICB9CgogIGZvciAoY29uc3QgZmlsZSBvZiBmaWxlcykgewogICAgY29uc3QgbGkgPSBkb2N1bWVudC5jcmVhdGVFbGVtZW50KCdsaScpOwogICAgbGkuYXBwZW5kKHNwYW4oZmlsZS5uYW1lLCB7Zm9udFdlaWdodDogJ2JvbGQnfSkpOwogICAgbGkuYXBwZW5kKHNwYW4oCiAgICAgICAgYCgke2ZpbGUudHlwZSB8fCAnbi9hJ30pIC0gJHtmaWxlLnNpemV9IGJ5dGVzLCBgICsKICAgICAgICBgbGFzdCBtb2RpZmllZDogJHsKICAgICAgICAgICAgZmlsZS5sYXN0TW9kaWZpZWREYXRlID8gZmlsZS5sYXN0TW9kaWZpZWREYXRlLnRvTG9jYWxlRGF0ZVN0cmluZygpIDoKICAgICAgICAgICAgICAgICAgICAgICAgICAgICAgICAgICAgJ24vYSd9IC0gYCkpOwogICAgY29uc3QgcGVyY2VudCA9IHNwYW4oJzAlIGRvbmUnKTsKICAgIGxpLmFwcGVuZENoaWxkKHBlcmNlbnQpOwoKICAgIG91dHB1dEVsZW1lbnQuYXBwZW5kQ2hpbGQobGkpOwoKICAgIGNvbnN0IGZpbGVEYXRhUHJvbWlzZSA9IG5ldyBQcm9taXNlKChyZXNvbHZlKSA9PiB7CiAgICAgIGNvbnN0IHJlYWRlciA9IG5ldyBGaWxlUmVhZGVyKCk7CiAgICAgIHJlYWRlci5vbmxvYWQgPSAoZSkgPT4gewogICAgICAgIHJlc29sdmUoZS50YXJnZXQucmVzdWx0KTsKICAgICAgfTsKICAgICAgcmVhZGVyLnJlYWRBc0FycmF5QnVmZmVyKGZpbGUpOwogICAgfSk7CiAgICAvLyBXYWl0IGZvciB0aGUgZGF0YSB0byBiZSByZWFkeS4KICAgIGxldCBmaWxlRGF0YSA9IHlpZWxkIHsKICAgICAgcHJvbWlzZTogZmlsZURhdGFQcm9taXNlLAogICAgICByZXNwb25zZTogewogICAgICAgIGFjdGlvbjogJ2NvbnRpbnVlJywKICAgICAgfQogICAgfTsKCiAgICAvLyBVc2UgYSBjaHVua2VkIHNlbmRpbmcgdG8gYXZvaWQgbWVzc2FnZSBzaXplIGxpbWl0cy4gU2VlIGIvNjIxMTU2NjAuCiAgICBsZXQgcG9zaXRpb24gPSAwOwogICAgZG8gewogICAgICBjb25zdCBsZW5ndGggPSBNYXRoLm1pbihmaWxlRGF0YS5ieXRlTGVuZ3RoIC0gcG9zaXRpb24sIE1BWF9QQVlMT0FEX1NJWkUpOwogICAgICBjb25zdCBjaHVuayA9IG5ldyBVaW50OEFycmF5KGZpbGVEYXRhLCBwb3NpdGlvbiwgbGVuZ3RoKTsKICAgICAgcG9zaXRpb24gKz0gbGVuZ3RoOwoKICAgICAgY29uc3QgYmFzZTY0ID0gYnRvYShTdHJpbmcuZnJvbUNoYXJDb2RlLmFwcGx5KG51bGwsIGNodW5rKSk7CiAgICAgIHlpZWxkIHsKICAgICAgICByZXNwb25zZTogewogICAgICAgICAgYWN0aW9uOiAnYXBwZW5kJywKICAgICAgICAgIGZpbGU6IGZpbGUubmFtZSwKICAgICAgICAgIGRhdGE6IGJhc2U2NCwKICAgICAgICB9LAogICAgICB9OwoKICAgICAgbGV0IHBlcmNlbnREb25lID0gZmlsZURhdGEuYnl0ZUxlbmd0aCA9PT0gMCA/CiAgICAgICAgICAxMDAgOgogICAgICAgICAgTWF0aC5yb3VuZCgocG9zaXRpb24gLyBmaWxlRGF0YS5ieXRlTGVuZ3RoKSAqIDEwMCk7CiAgICAgIHBlcmNlbnQudGV4dENvbnRlbnQgPSBgJHtwZXJjZW50RG9uZX0lIGRvbmVgOwoKICAgIH0gd2hpbGUgKHBvc2l0aW9uIDwgZmlsZURhdGEuYnl0ZUxlbmd0aCk7CiAgfQoKICAvLyBBbGwgZG9uZS4KICB5aWVsZCB7CiAgICByZXNwb25zZTogewogICAgICBhY3Rpb246ICdjb21wbGV0ZScsCiAgICB9CiAgfTsKfQoKc2NvcGUuZ29vZ2xlID0gc2NvcGUuZ29vZ2xlIHx8IHt9OwpzY29wZS5nb29nbGUuY29sYWIgPSBzY29wZS5nb29nbGUuY29sYWIgfHwge307CnNjb3BlLmdvb2dsZS5jb2xhYi5fZmlsZXMgPSB7CiAgX3VwbG9hZEZpbGVzLAogIF91cGxvYWRGaWxlc0NvbnRpbnVlLAp9Owp9KShzZWxmKTsK",
              "ok": true,
              "headers": [
                [
                  "content-type",
                  "application/javascript"
                ]
              ],
              "status": 200,
              "status_text": ""
            }
          },
          "base_uri": "https://localhost:8080/",
          "height": 106
        },
        "id": "7molZQFeOMzi",
        "outputId": "75887845-8147-4b36-a03e-d35e0ddaf806"
      },
      "source": [
        "#Import Files\n",
        "from google.colab import files\n",
        "uploaded = files.upload()"
      ],
      "execution_count": null,
      "outputs": [
        {
          "output_type": "display_data",
          "data": {
            "text/html": [
              "\n",
              "     <input type=\"file\" id=\"files-74b5e97d-99f8-4e78-904b-7825ea242deb\" name=\"files[]\" multiple disabled\n",
              "        style=\"border:none\" />\n",
              "     <output id=\"result-74b5e97d-99f8-4e78-904b-7825ea242deb\">\n",
              "      Upload widget is only available when the cell has been executed in the\n",
              "      current browser session. Please rerun this cell to enable.\n",
              "      </output>\n",
              "      <script src=\"/nbextensions/google.colab/files.js\"></script> "
            ],
            "text/plain": [
              "<IPython.core.display.HTML object>"
            ]
          },
          "metadata": {
            "tags": []
          }
        },
        {
          "output_type": "stream",
          "text": [
            "Saving item.csv to item.csv\n",
            "Saving train.csv to train.csv\n"
          ],
          "name": "stdout"
        }
      ]
    },
    {
      "cell_type": "code",
      "metadata": {
        "colab": {
          "base_uri": "https://localhost:8080/"
        },
        "id": "y7sFBOoZRXdg",
        "outputId": "83dc8610-9aad-444b-f9d4-63e22ebe47c1"
      },
      "source": [
        "#Read data\n",
        "import pandas as pd\n",
        "import numpy as np\n",
        "df_item = pd.read_csv('item.csv')\n",
        "df_train = pd.read_csv('train.csv')\n",
        "print(df_item)\n",
        "print(df_train)\n"
      ],
      "execution_count": null,
      "outputs": [
        {
          "output_type": "stream",
          "text": [
            "     item_id brand_id  brandfamily_id  package_id info_id\n",
            "0          1  [6, 14]               1           1     BHS\n",
            "1          6  [6, 19]               2           1     BHM\n",
            "2         54  [6, 14]               1           1     BHS\n",
            "3         15  [6, 19]               2           1     BHM\n",
            "4        108     [19]               3           1     MQB\n",
            "..       ...      ...             ...         ...     ...\n",
            "113       78   [6, 8]               4           4    BZMN\n",
            "114        5     [11]               5           1     HGO\n",
            "115       83     [19]               3           1     MQB\n",
            "116       87     [19]               3           2     MQB\n",
            "117       12     [19]               3           4     MQB\n",
            "\n",
            "[118 rows x 5 columns]\n",
            "          datetime  order_id  user_id  item_id  province_id  city_id  quantity\n",
            "0       2017-01-02      8806      404        1            2       19  8.298021\n",
            "1       2017-01-02     22552      404        1            2       19  8.298021\n",
            "2       2017-01-02       494      489        6            1        0  0.376088\n",
            "3       2017-01-02     62721       28       54            2       19  1.488643\n",
            "4       2017-01-02     24790      231       15            0       10  0.748268\n",
            "...            ...       ...      ...      ...          ...      ...       ...\n",
            "145190  2020-12-29     72305      390       18            0       10  0.733838\n",
            "145191  2020-12-30     55224      321       27            1        3  0.792584\n",
            "145192  2020-12-31     75987      326      105            0        4  0.009584\n",
            "145193  2020-12-31     27911      326      105            0        4  0.015935\n",
            "145194  2020-12-31     55625      326       75            0        4  0.069767\n",
            "\n",
            "[145195 rows x 7 columns]\n"
          ],
          "name": "stdout"
        }
      ]
    },
    {
      "cell_type": "markdown",
      "metadata": {
        "id": "2svRIDzQLL2A"
      },
      "source": [
        "We find that our two tales have a common column called id, we need to combine them in order to continue the analysis."
      ]
    },
    {
      "cell_type": "code",
      "metadata": {
        "colab": {
          "base_uri": "https://localhost:8080/",
          "height": 419
        },
        "id": "9ovYqjhPSsyw",
        "outputId": "5c5b714a-1862-4e25-fe04-d057505e7212"
      },
      "source": [
        "#Data integrity\n",
        "df_wine = pd.merge(df_item,df_train, on = 'item_id')\n",
        "df_wine"
      ],
      "execution_count": null,
      "outputs": [
        {
          "output_type": "execute_result",
          "data": {
            "text/html": [
              "<div>\n",
              "<style scoped>\n",
              "    .dataframe tbody tr th:only-of-type {\n",
              "        vertical-align: middle;\n",
              "    }\n",
              "\n",
              "    .dataframe tbody tr th {\n",
              "        vertical-align: top;\n",
              "    }\n",
              "\n",
              "    .dataframe thead th {\n",
              "        text-align: right;\n",
              "    }\n",
              "</style>\n",
              "<table border=\"1\" class=\"dataframe\">\n",
              "  <thead>\n",
              "    <tr style=\"text-align: right;\">\n",
              "      <th></th>\n",
              "      <th>item_id</th>\n",
              "      <th>brand_id</th>\n",
              "      <th>brandfamily_id</th>\n",
              "      <th>package_id</th>\n",
              "      <th>info_id</th>\n",
              "      <th>datetime</th>\n",
              "      <th>order_id</th>\n",
              "      <th>user_id</th>\n",
              "      <th>province_id</th>\n",
              "      <th>city_id</th>\n",
              "      <th>quantity</th>\n",
              "    </tr>\n",
              "  </thead>\n",
              "  <tbody>\n",
              "    <tr>\n",
              "      <th>0</th>\n",
              "      <td>1</td>\n",
              "      <td>[6, 14]</td>\n",
              "      <td>1</td>\n",
              "      <td>1</td>\n",
              "      <td>BHS</td>\n",
              "      <td>2017-01-02</td>\n",
              "      <td>8806</td>\n",
              "      <td>404</td>\n",
              "      <td>2</td>\n",
              "      <td>19</td>\n",
              "      <td>8.298021</td>\n",
              "    </tr>\n",
              "    <tr>\n",
              "      <th>1</th>\n",
              "      <td>1</td>\n",
              "      <td>[6, 14]</td>\n",
              "      <td>1</td>\n",
              "      <td>1</td>\n",
              "      <td>BHS</td>\n",
              "      <td>2017-01-02</td>\n",
              "      <td>22552</td>\n",
              "      <td>404</td>\n",
              "      <td>2</td>\n",
              "      <td>19</td>\n",
              "      <td>8.298021</td>\n",
              "    </tr>\n",
              "    <tr>\n",
              "      <th>2</th>\n",
              "      <td>1</td>\n",
              "      <td>[6, 14]</td>\n",
              "      <td>1</td>\n",
              "      <td>1</td>\n",
              "      <td>BHS</td>\n",
              "      <td>2017-01-06</td>\n",
              "      <td>54066</td>\n",
              "      <td>395</td>\n",
              "      <td>0</td>\n",
              "      <td>10</td>\n",
              "      <td>0.377183</td>\n",
              "    </tr>\n",
              "    <tr>\n",
              "      <th>3</th>\n",
              "      <td>1</td>\n",
              "      <td>[6, 14]</td>\n",
              "      <td>1</td>\n",
              "      <td>1</td>\n",
              "      <td>BHS</td>\n",
              "      <td>2017-01-07</td>\n",
              "      <td>67828</td>\n",
              "      <td>377</td>\n",
              "      <td>0</td>\n",
              "      <td>4</td>\n",
              "      <td>0.754366</td>\n",
              "    </tr>\n",
              "    <tr>\n",
              "      <th>4</th>\n",
              "      <td>1</td>\n",
              "      <td>[6, 14]</td>\n",
              "      <td>1</td>\n",
              "      <td>1</td>\n",
              "      <td>BHS</td>\n",
              "      <td>2017-01-10</td>\n",
              "      <td>4205</td>\n",
              "      <td>349</td>\n",
              "      <td>0</td>\n",
              "      <td>9</td>\n",
              "      <td>3.017462</td>\n",
              "    </tr>\n",
              "    <tr>\n",
              "      <th>...</th>\n",
              "      <td>...</td>\n",
              "      <td>...</td>\n",
              "      <td>...</td>\n",
              "      <td>...</td>\n",
              "      <td>...</td>\n",
              "      <td>...</td>\n",
              "      <td>...</td>\n",
              "      <td>...</td>\n",
              "      <td>...</td>\n",
              "      <td>...</td>\n",
              "      <td>...</td>\n",
              "    </tr>\n",
              "    <tr>\n",
              "      <th>145190</th>\n",
              "      <td>12</td>\n",
              "      <td>[19]</td>\n",
              "      <td>3</td>\n",
              "      <td>4</td>\n",
              "      <td>MQB</td>\n",
              "      <td>2020-09-21</td>\n",
              "      <td>52082</td>\n",
              "      <td>18</td>\n",
              "      <td>0</td>\n",
              "      <td>10</td>\n",
              "      <td>3.643725</td>\n",
              "    </tr>\n",
              "    <tr>\n",
              "      <th>145191</th>\n",
              "      <td>12</td>\n",
              "      <td>[19]</td>\n",
              "      <td>3</td>\n",
              "      <td>4</td>\n",
              "      <td>MQB</td>\n",
              "      <td>2020-09-26</td>\n",
              "      <td>11453</td>\n",
              "      <td>450</td>\n",
              "      <td>0</td>\n",
              "      <td>10</td>\n",
              "      <td>1.457490</td>\n",
              "    </tr>\n",
              "    <tr>\n",
              "      <th>145192</th>\n",
              "      <td>12</td>\n",
              "      <td>[19]</td>\n",
              "      <td>3</td>\n",
              "      <td>4</td>\n",
              "      <td>MQB</td>\n",
              "      <td>2020-09-11</td>\n",
              "      <td>58771</td>\n",
              "      <td>262</td>\n",
              "      <td>0</td>\n",
              "      <td>10</td>\n",
              "      <td>2.914980</td>\n",
              "    </tr>\n",
              "    <tr>\n",
              "      <th>145193</th>\n",
              "      <td>12</td>\n",
              "      <td>[19]</td>\n",
              "      <td>3</td>\n",
              "      <td>4</td>\n",
              "      <td>MQB</td>\n",
              "      <td>2020-09-12</td>\n",
              "      <td>33368</td>\n",
              "      <td>248</td>\n",
              "      <td>0</td>\n",
              "      <td>10</td>\n",
              "      <td>1.457490</td>\n",
              "    </tr>\n",
              "    <tr>\n",
              "      <th>145194</th>\n",
              "      <td>12</td>\n",
              "      <td>[19]</td>\n",
              "      <td>3</td>\n",
              "      <td>4</td>\n",
              "      <td>MQB</td>\n",
              "      <td>2020-09-19</td>\n",
              "      <td>91984</td>\n",
              "      <td>24</td>\n",
              "      <td>0</td>\n",
              "      <td>10</td>\n",
              "      <td>0.728745</td>\n",
              "    </tr>\n",
              "  </tbody>\n",
              "</table>\n",
              "<p>145195 rows × 11 columns</p>\n",
              "</div>"
            ],
            "text/plain": [
              "        item_id brand_id  brandfamily_id  ...  province_id city_id  quantity\n",
              "0             1  [6, 14]               1  ...            2      19  8.298021\n",
              "1             1  [6, 14]               1  ...            2      19  8.298021\n",
              "2             1  [6, 14]               1  ...            0      10  0.377183\n",
              "3             1  [6, 14]               1  ...            0       4  0.754366\n",
              "4             1  [6, 14]               1  ...            0       9  3.017462\n",
              "...         ...      ...             ...  ...          ...     ...       ...\n",
              "145190       12     [19]               3  ...            0      10  3.643725\n",
              "145191       12     [19]               3  ...            0      10  1.457490\n",
              "145192       12     [19]               3  ...            0      10  2.914980\n",
              "145193       12     [19]               3  ...            0      10  1.457490\n",
              "145194       12     [19]               3  ...            0      10  0.728745\n",
              "\n",
              "[145195 rows x 11 columns]"
            ]
          },
          "metadata": {
            "tags": []
          },
          "execution_count": 6
        }
      ]
    },
    {
      "cell_type": "markdown",
      "metadata": {
        "id": "nT0gprPULhW7"
      },
      "source": [
        "The join result get a table with 145195 rows and 11 columns, which is good"
      ]
    },
    {
      "cell_type": "code",
      "metadata": {
        "colab": {
          "base_uri": "https://localhost:8080/",
          "height": 419
        },
        "id": "AUsGtINWmQGW",
        "outputId": "fca5c918-72b4-4163-d7ae-3b20dca64e62"
      },
      "source": [
        "#Explode composite values\n",
        "from ast import literal_eval\n",
        "df_wine['brand_id'] = df_wine['brand_id'].astype(str)\n",
        "df_wine['brand_id'] = df_wine['brand_id'].apply(literal_eval)\n",
        "df_wine = df_wine.explode('brand_id')\n",
        "df_wine"
      ],
      "execution_count": null,
      "outputs": [
        {
          "output_type": "execute_result",
          "data": {
            "text/html": [
              "<div>\n",
              "<style scoped>\n",
              "    .dataframe tbody tr th:only-of-type {\n",
              "        vertical-align: middle;\n",
              "    }\n",
              "\n",
              "    .dataframe tbody tr th {\n",
              "        vertical-align: top;\n",
              "    }\n",
              "\n",
              "    .dataframe thead th {\n",
              "        text-align: right;\n",
              "    }\n",
              "</style>\n",
              "<table border=\"1\" class=\"dataframe\">\n",
              "  <thead>\n",
              "    <tr style=\"text-align: right;\">\n",
              "      <th></th>\n",
              "      <th>item_id</th>\n",
              "      <th>brand_id</th>\n",
              "      <th>brandfamily_id</th>\n",
              "      <th>package_id</th>\n",
              "      <th>info_id</th>\n",
              "      <th>datetime</th>\n",
              "      <th>order_id</th>\n",
              "      <th>user_id</th>\n",
              "      <th>province_id</th>\n",
              "      <th>city_id</th>\n",
              "      <th>quantity</th>\n",
              "    </tr>\n",
              "  </thead>\n",
              "  <tbody>\n",
              "    <tr>\n",
              "      <th>0</th>\n",
              "      <td>1</td>\n",
              "      <td>6</td>\n",
              "      <td>1</td>\n",
              "      <td>1</td>\n",
              "      <td>BHS</td>\n",
              "      <td>2017-01-02</td>\n",
              "      <td>8806</td>\n",
              "      <td>404</td>\n",
              "      <td>2</td>\n",
              "      <td>19</td>\n",
              "      <td>8.298021</td>\n",
              "    </tr>\n",
              "    <tr>\n",
              "      <th>0</th>\n",
              "      <td>1</td>\n",
              "      <td>14</td>\n",
              "      <td>1</td>\n",
              "      <td>1</td>\n",
              "      <td>BHS</td>\n",
              "      <td>2017-01-02</td>\n",
              "      <td>8806</td>\n",
              "      <td>404</td>\n",
              "      <td>2</td>\n",
              "      <td>19</td>\n",
              "      <td>8.298021</td>\n",
              "    </tr>\n",
              "    <tr>\n",
              "      <th>1</th>\n",
              "      <td>1</td>\n",
              "      <td>6</td>\n",
              "      <td>1</td>\n",
              "      <td>1</td>\n",
              "      <td>BHS</td>\n",
              "      <td>2017-01-02</td>\n",
              "      <td>22552</td>\n",
              "      <td>404</td>\n",
              "      <td>2</td>\n",
              "      <td>19</td>\n",
              "      <td>8.298021</td>\n",
              "    </tr>\n",
              "    <tr>\n",
              "      <th>1</th>\n",
              "      <td>1</td>\n",
              "      <td>14</td>\n",
              "      <td>1</td>\n",
              "      <td>1</td>\n",
              "      <td>BHS</td>\n",
              "      <td>2017-01-02</td>\n",
              "      <td>22552</td>\n",
              "      <td>404</td>\n",
              "      <td>2</td>\n",
              "      <td>19</td>\n",
              "      <td>8.298021</td>\n",
              "    </tr>\n",
              "    <tr>\n",
              "      <th>2</th>\n",
              "      <td>1</td>\n",
              "      <td>6</td>\n",
              "      <td>1</td>\n",
              "      <td>1</td>\n",
              "      <td>BHS</td>\n",
              "      <td>2017-01-06</td>\n",
              "      <td>54066</td>\n",
              "      <td>395</td>\n",
              "      <td>0</td>\n",
              "      <td>10</td>\n",
              "      <td>0.377183</td>\n",
              "    </tr>\n",
              "    <tr>\n",
              "      <th>...</th>\n",
              "      <td>...</td>\n",
              "      <td>...</td>\n",
              "      <td>...</td>\n",
              "      <td>...</td>\n",
              "      <td>...</td>\n",
              "      <td>...</td>\n",
              "      <td>...</td>\n",
              "      <td>...</td>\n",
              "      <td>...</td>\n",
              "      <td>...</td>\n",
              "      <td>...</td>\n",
              "    </tr>\n",
              "    <tr>\n",
              "      <th>145190</th>\n",
              "      <td>12</td>\n",
              "      <td>19</td>\n",
              "      <td>3</td>\n",
              "      <td>4</td>\n",
              "      <td>MQB</td>\n",
              "      <td>2020-09-21</td>\n",
              "      <td>52082</td>\n",
              "      <td>18</td>\n",
              "      <td>0</td>\n",
              "      <td>10</td>\n",
              "      <td>3.643725</td>\n",
              "    </tr>\n",
              "    <tr>\n",
              "      <th>145191</th>\n",
              "      <td>12</td>\n",
              "      <td>19</td>\n",
              "      <td>3</td>\n",
              "      <td>4</td>\n",
              "      <td>MQB</td>\n",
              "      <td>2020-09-26</td>\n",
              "      <td>11453</td>\n",
              "      <td>450</td>\n",
              "      <td>0</td>\n",
              "      <td>10</td>\n",
              "      <td>1.457490</td>\n",
              "    </tr>\n",
              "    <tr>\n",
              "      <th>145192</th>\n",
              "      <td>12</td>\n",
              "      <td>19</td>\n",
              "      <td>3</td>\n",
              "      <td>4</td>\n",
              "      <td>MQB</td>\n",
              "      <td>2020-09-11</td>\n",
              "      <td>58771</td>\n",
              "      <td>262</td>\n",
              "      <td>0</td>\n",
              "      <td>10</td>\n",
              "      <td>2.914980</td>\n",
              "    </tr>\n",
              "    <tr>\n",
              "      <th>145193</th>\n",
              "      <td>12</td>\n",
              "      <td>19</td>\n",
              "      <td>3</td>\n",
              "      <td>4</td>\n",
              "      <td>MQB</td>\n",
              "      <td>2020-09-12</td>\n",
              "      <td>33368</td>\n",
              "      <td>248</td>\n",
              "      <td>0</td>\n",
              "      <td>10</td>\n",
              "      <td>1.457490</td>\n",
              "    </tr>\n",
              "    <tr>\n",
              "      <th>145194</th>\n",
              "      <td>12</td>\n",
              "      <td>19</td>\n",
              "      <td>3</td>\n",
              "      <td>4</td>\n",
              "      <td>MQB</td>\n",
              "      <td>2020-09-19</td>\n",
              "      <td>91984</td>\n",
              "      <td>24</td>\n",
              "      <td>0</td>\n",
              "      <td>10</td>\n",
              "      <td>0.728745</td>\n",
              "    </tr>\n",
              "  </tbody>\n",
              "</table>\n",
              "<p>217723 rows × 11 columns</p>\n",
              "</div>"
            ],
            "text/plain": [
              "        item_id brand_id  brandfamily_id  ...  province_id city_id  quantity\n",
              "0             1        6               1  ...            2      19  8.298021\n",
              "0             1       14               1  ...            2      19  8.298021\n",
              "1             1        6               1  ...            2      19  8.298021\n",
              "1             1       14               1  ...            2      19  8.298021\n",
              "2             1        6               1  ...            0      10  0.377183\n",
              "...         ...      ...             ...  ...          ...     ...       ...\n",
              "145190       12       19               3  ...            0      10  3.643725\n",
              "145191       12       19               3  ...            0      10  1.457490\n",
              "145192       12       19               3  ...            0      10  2.914980\n",
              "145193       12       19               3  ...            0      10  1.457490\n",
              "145194       12       19               3  ...            0      10  0.728745\n",
              "\n",
              "[217723 rows x 11 columns]"
            ]
          },
          "metadata": {
            "tags": []
          },
          "execution_count": 7
        }
      ]
    },
    {
      "cell_type": "markdown",
      "metadata": {
        "id": "Sa-1Abn9Lpf2"
      },
      "source": [
        "We find that brand_id has composite items(it is a list), wh need to change its types to numeric. Explode the lists to get more rows(217723)"
      ]
    },
    {
      "cell_type": "code",
      "metadata": {
        "id": "AHdyY3wwYf_z",
        "colab": {
          "base_uri": "https://localhost:8080/"
        },
        "outputId": "8839f1e1-492a-43b5-8f12-9e7775bb20c8"
      },
      "source": [
        "#Data Cleaning\n",
        "\n",
        "#Check Data Type\n",
        "df_wine.dtypes"
      ],
      "execution_count": null,
      "outputs": [
        {
          "output_type": "execute_result",
          "data": {
            "text/plain": [
              "item_id             int64\n",
              "brand_id           object\n",
              "brandfamily_id      int64\n",
              "package_id          int64\n",
              "info_id            object\n",
              "datetime           object\n",
              "order_id            int64\n",
              "user_id             int64\n",
              "province_id         int64\n",
              "city_id             int64\n",
              "quantity          float64\n",
              "dtype: object"
            ]
          },
          "metadata": {
            "tags": []
          },
          "execution_count": 8
        }
      ]
    },
    {
      "cell_type": "markdown",
      "metadata": {
        "id": "CWXPaLcbL72q"
      },
      "source": [
        "We check the types find that some types are unclear, they are object which are hard to handle"
      ]
    },
    {
      "cell_type": "code",
      "metadata": {
        "colab": {
          "base_uri": "https://localhost:8080/"
        },
        "id": "aDNphHcPqXkH",
        "outputId": "f9d4819a-4a71-4d07-c747-e3455a3e95aa"
      },
      "source": [
        "from datetime import datetime\n",
        "#Convert types \n",
        "df_wine['brand_id'] = df_wine['brand_id'].astype(int)\n",
        "df_wine['info_id'] = df_wine['info_id'].astype('category')\n",
        "df_wine['datetime'] = pd.to_datetime(df_wine['datetime'], format='%Y-%m-%d')\n",
        "df_wine.dtypes"
      ],
      "execution_count": null,
      "outputs": [
        {
          "output_type": "execute_result",
          "data": {
            "text/plain": [
              "item_id                    int64\n",
              "brand_id                   int64\n",
              "brandfamily_id             int64\n",
              "package_id                 int64\n",
              "info_id                 category\n",
              "datetime          datetime64[ns]\n",
              "order_id                   int64\n",
              "user_id                    int64\n",
              "province_id                int64\n",
              "city_id                    int64\n",
              "quantity                 float64\n",
              "dtype: object"
            ]
          },
          "metadata": {
            "tags": []
          },
          "execution_count": 9
        }
      ]
    },
    {
      "cell_type": "code",
      "metadata": {
        "id": "HS04uugTtdzX"
      },
      "source": [
        "# Convert string id to numeric \n",
        "df_wine['info_id'] = df_wine['info_id'].cat.codes"
      ],
      "execution_count": null,
      "outputs": []
    },
    {
      "cell_type": "code",
      "metadata": {
        "colab": {
          "base_uri": "https://localhost:8080/"
        },
        "id": "5nLrTOaIwPj8",
        "outputId": "b36bcee7-8ff5-4871-974a-ac82da7f7f74"
      },
      "source": [
        "df_wine['info_id'] = df_wine['info_id'].astype(int)\n",
        "df_wine.dtypes"
      ],
      "execution_count": null,
      "outputs": [
        {
          "output_type": "execute_result",
          "data": {
            "text/plain": [
              "item_id                    int64\n",
              "brand_id                   int64\n",
              "brandfamily_id             int64\n",
              "package_id                 int64\n",
              "info_id                    int64\n",
              "datetime          datetime64[ns]\n",
              "order_id                   int64\n",
              "user_id                    int64\n",
              "province_id                int64\n",
              "city_id                    int64\n",
              "quantity                 float64\n",
              "dtype: object"
            ]
          },
          "metadata": {
            "tags": []
          },
          "execution_count": 11
        }
      ]
    },
    {
      "cell_type": "markdown",
      "metadata": {
        "id": "Y1RsBmfgMV0C"
      },
      "source": [
        "We try to make sure every id is int. Convert brand_id to int. Cast info_id into category then convert into int. Convert the datetime from object to datetime object."
      ]
    },
    {
      "cell_type": "code",
      "metadata": {
        "colab": {
          "base_uri": "https://localhost:8080/",
          "height": 419
        },
        "id": "_1qsopJ8qVK7",
        "outputId": "031973c6-982d-4aba-f672-4d77f7ca9a07"
      },
      "source": [
        "#Cleaning NA values\n",
        "\n",
        "df_wine.dropna(axis = 0, how = \"any\")\n",
        "df_wine"
      ],
      "execution_count": null,
      "outputs": [
        {
          "output_type": "execute_result",
          "data": {
            "text/html": [
              "<div>\n",
              "<style scoped>\n",
              "    .dataframe tbody tr th:only-of-type {\n",
              "        vertical-align: middle;\n",
              "    }\n",
              "\n",
              "    .dataframe tbody tr th {\n",
              "        vertical-align: top;\n",
              "    }\n",
              "\n",
              "    .dataframe thead th {\n",
              "        text-align: right;\n",
              "    }\n",
              "</style>\n",
              "<table border=\"1\" class=\"dataframe\">\n",
              "  <thead>\n",
              "    <tr style=\"text-align: right;\">\n",
              "      <th></th>\n",
              "      <th>item_id</th>\n",
              "      <th>brand_id</th>\n",
              "      <th>brandfamily_id</th>\n",
              "      <th>package_id</th>\n",
              "      <th>info_id</th>\n",
              "      <th>datetime</th>\n",
              "      <th>order_id</th>\n",
              "      <th>user_id</th>\n",
              "      <th>province_id</th>\n",
              "      <th>city_id</th>\n",
              "      <th>quantity</th>\n",
              "    </tr>\n",
              "  </thead>\n",
              "  <tbody>\n",
              "    <tr>\n",
              "      <th>0</th>\n",
              "      <td>1</td>\n",
              "      <td>6</td>\n",
              "      <td>1</td>\n",
              "      <td>1</td>\n",
              "      <td>3</td>\n",
              "      <td>2017-01-02</td>\n",
              "      <td>8806</td>\n",
              "      <td>404</td>\n",
              "      <td>2</td>\n",
              "      <td>19</td>\n",
              "      <td>8.298021</td>\n",
              "    </tr>\n",
              "    <tr>\n",
              "      <th>0</th>\n",
              "      <td>1</td>\n",
              "      <td>14</td>\n",
              "      <td>1</td>\n",
              "      <td>1</td>\n",
              "      <td>3</td>\n",
              "      <td>2017-01-02</td>\n",
              "      <td>8806</td>\n",
              "      <td>404</td>\n",
              "      <td>2</td>\n",
              "      <td>19</td>\n",
              "      <td>8.298021</td>\n",
              "    </tr>\n",
              "    <tr>\n",
              "      <th>1</th>\n",
              "      <td>1</td>\n",
              "      <td>6</td>\n",
              "      <td>1</td>\n",
              "      <td>1</td>\n",
              "      <td>3</td>\n",
              "      <td>2017-01-02</td>\n",
              "      <td>22552</td>\n",
              "      <td>404</td>\n",
              "      <td>2</td>\n",
              "      <td>19</td>\n",
              "      <td>8.298021</td>\n",
              "    </tr>\n",
              "    <tr>\n",
              "      <th>1</th>\n",
              "      <td>1</td>\n",
              "      <td>14</td>\n",
              "      <td>1</td>\n",
              "      <td>1</td>\n",
              "      <td>3</td>\n",
              "      <td>2017-01-02</td>\n",
              "      <td>22552</td>\n",
              "      <td>404</td>\n",
              "      <td>2</td>\n",
              "      <td>19</td>\n",
              "      <td>8.298021</td>\n",
              "    </tr>\n",
              "    <tr>\n",
              "      <th>2</th>\n",
              "      <td>1</td>\n",
              "      <td>6</td>\n",
              "      <td>1</td>\n",
              "      <td>1</td>\n",
              "      <td>3</td>\n",
              "      <td>2017-01-06</td>\n",
              "      <td>54066</td>\n",
              "      <td>395</td>\n",
              "      <td>0</td>\n",
              "      <td>10</td>\n",
              "      <td>0.377183</td>\n",
              "    </tr>\n",
              "    <tr>\n",
              "      <th>...</th>\n",
              "      <td>...</td>\n",
              "      <td>...</td>\n",
              "      <td>...</td>\n",
              "      <td>...</td>\n",
              "      <td>...</td>\n",
              "      <td>...</td>\n",
              "      <td>...</td>\n",
              "      <td>...</td>\n",
              "      <td>...</td>\n",
              "      <td>...</td>\n",
              "      <td>...</td>\n",
              "    </tr>\n",
              "    <tr>\n",
              "      <th>145190</th>\n",
              "      <td>12</td>\n",
              "      <td>19</td>\n",
              "      <td>3</td>\n",
              "      <td>4</td>\n",
              "      <td>11</td>\n",
              "      <td>2020-09-21</td>\n",
              "      <td>52082</td>\n",
              "      <td>18</td>\n",
              "      <td>0</td>\n",
              "      <td>10</td>\n",
              "      <td>3.643725</td>\n",
              "    </tr>\n",
              "    <tr>\n",
              "      <th>145191</th>\n",
              "      <td>12</td>\n",
              "      <td>19</td>\n",
              "      <td>3</td>\n",
              "      <td>4</td>\n",
              "      <td>11</td>\n",
              "      <td>2020-09-26</td>\n",
              "      <td>11453</td>\n",
              "      <td>450</td>\n",
              "      <td>0</td>\n",
              "      <td>10</td>\n",
              "      <td>1.457490</td>\n",
              "    </tr>\n",
              "    <tr>\n",
              "      <th>145192</th>\n",
              "      <td>12</td>\n",
              "      <td>19</td>\n",
              "      <td>3</td>\n",
              "      <td>4</td>\n",
              "      <td>11</td>\n",
              "      <td>2020-09-11</td>\n",
              "      <td>58771</td>\n",
              "      <td>262</td>\n",
              "      <td>0</td>\n",
              "      <td>10</td>\n",
              "      <td>2.914980</td>\n",
              "    </tr>\n",
              "    <tr>\n",
              "      <th>145193</th>\n",
              "      <td>12</td>\n",
              "      <td>19</td>\n",
              "      <td>3</td>\n",
              "      <td>4</td>\n",
              "      <td>11</td>\n",
              "      <td>2020-09-12</td>\n",
              "      <td>33368</td>\n",
              "      <td>248</td>\n",
              "      <td>0</td>\n",
              "      <td>10</td>\n",
              "      <td>1.457490</td>\n",
              "    </tr>\n",
              "    <tr>\n",
              "      <th>145194</th>\n",
              "      <td>12</td>\n",
              "      <td>19</td>\n",
              "      <td>3</td>\n",
              "      <td>4</td>\n",
              "      <td>11</td>\n",
              "      <td>2020-09-19</td>\n",
              "      <td>91984</td>\n",
              "      <td>24</td>\n",
              "      <td>0</td>\n",
              "      <td>10</td>\n",
              "      <td>0.728745</td>\n",
              "    </tr>\n",
              "  </tbody>\n",
              "</table>\n",
              "<p>217723 rows × 11 columns</p>\n",
              "</div>"
            ],
            "text/plain": [
              "        item_id  brand_id  brandfamily_id  ...  province_id  city_id  quantity\n",
              "0             1         6               1  ...            2       19  8.298021\n",
              "0             1        14               1  ...            2       19  8.298021\n",
              "1             1         6               1  ...            2       19  8.298021\n",
              "1             1        14               1  ...            2       19  8.298021\n",
              "2             1         6               1  ...            0       10  0.377183\n",
              "...         ...       ...             ...  ...          ...      ...       ...\n",
              "145190       12        19               3  ...            0       10  3.643725\n",
              "145191       12        19               3  ...            0       10  1.457490\n",
              "145192       12        19               3  ...            0       10  2.914980\n",
              "145193       12        19               3  ...            0       10  1.457490\n",
              "145194       12        19               3  ...            0       10  0.728745\n",
              "\n",
              "[217723 rows x 11 columns]"
            ]
          },
          "metadata": {
            "tags": []
          },
          "execution_count": 12
        }
      ]
    },
    {
      "cell_type": "markdown",
      "metadata": {
        "id": "tYanHaoNeyRu"
      },
      "source": [
        "We check NA thourgh all rows and columns. We fine that there is no missing values at all, which means the table is good itself."
      ]
    },
    {
      "cell_type": "code",
      "metadata": {
        "colab": {
          "base_uri": "https://localhost:8080/"
        },
        "id": "3hqqqDIKe5YT",
        "outputId": "a7611570-a030-45ed-8af9-dace74edd616"
      },
      "source": [
        "\n",
        "#Check negative values\n",
        "\n",
        "\n",
        "print(\"The unusual values for item id:\",df_wine[ df_wine.iloc[: , 0] < 0 ])\n",
        "print(\"The unusual values for brand id:\",df_wine[ df_wine.iloc[: , 1] < 0 ])\n",
        "print(\"The unusual values for brandfamily id:\",df_wine[ df_wine.iloc[: , 2] < 0 ])\n",
        "print(\"The unusual values for package id:\",df_wine[ df_wine.iloc[: , 3] < 0 ])\n",
        "print(\"The unusual values for order id:\",df_wine[ df_wine.iloc[: , 6] < 0 ])\n",
        "print(\"The unusual values for user id:\",df_wine[ df_wine.iloc[: , 7] < 0 ])\n",
        "print(\"The unusual values for province id:\",df_wine[ df_wine.iloc[: , 8] < 0 ])\n",
        "print(\"The unusual values for city id:\",df_wine[ df_wine.iloc[: , 9] < 0 ])\n",
        "print(\"The unusual values for quantity :\",df_wine[ df_wine.iloc[: , 10] < 0 ])\n",
        "\n"
      ],
      "execution_count": null,
      "outputs": [
        {
          "output_type": "stream",
          "text": [
            "The unusual values for item id: Empty DataFrame\n",
            "Columns: [item_id, brand_id, brandfamily_id, package_id, info_id, datetime, order_id, user_id, province_id, city_id, quantity]\n",
            "Index: []\n",
            "The unusual values for brand id: Empty DataFrame\n",
            "Columns: [item_id, brand_id, brandfamily_id, package_id, info_id, datetime, order_id, user_id, province_id, city_id, quantity]\n",
            "Index: []\n",
            "The unusual values for brandfamily id: Empty DataFrame\n",
            "Columns: [item_id, brand_id, brandfamily_id, package_id, info_id, datetime, order_id, user_id, province_id, city_id, quantity]\n",
            "Index: []\n",
            "The unusual values for package id: Empty DataFrame\n",
            "Columns: [item_id, brand_id, brandfamily_id, package_id, info_id, datetime, order_id, user_id, province_id, city_id, quantity]\n",
            "Index: []\n",
            "The unusual values for order id: Empty DataFrame\n",
            "Columns: [item_id, brand_id, brandfamily_id, package_id, info_id, datetime, order_id, user_id, province_id, city_id, quantity]\n",
            "Index: []\n",
            "The unusual values for user id: Empty DataFrame\n",
            "Columns: [item_id, brand_id, brandfamily_id, package_id, info_id, datetime, order_id, user_id, province_id, city_id, quantity]\n",
            "Index: []\n",
            "The unusual values for province id: Empty DataFrame\n",
            "Columns: [item_id, brand_id, brandfamily_id, package_id, info_id, datetime, order_id, user_id, province_id, city_id, quantity]\n",
            "Index: []\n",
            "The unusual values for city id: Empty DataFrame\n",
            "Columns: [item_id, brand_id, brandfamily_id, package_id, info_id, datetime, order_id, user_id, province_id, city_id, quantity]\n",
            "Index: []\n",
            "The unusual values for quantity : Empty DataFrame\n",
            "Columns: [item_id, brand_id, brandfamily_id, package_id, info_id, datetime, order_id, user_id, province_id, city_id, quantity]\n",
            "Index: []\n"
          ],
          "name": "stdout"
        }
      ]
    },
    {
      "cell_type": "markdown",
      "metadata": {
        "id": "VGl9x6LaMzS4"
      },
      "source": [
        "We check whether there are negative values in every id columns and also quantity columns(not alllowed, should be removed as they are unusual values). The good news is that there is no negative values through those columns."
      ]
    },
    {
      "cell_type": "code",
      "metadata": {
        "colab": {
          "base_uri": "https://localhost:8080/",
          "height": 419
        },
        "id": "dpnJnHFvs7Do",
        "outputId": "b4cb9c49-cab1-4200-8057-b98e4e56683d"
      },
      "source": [
        "#split date\n",
        "df_wine.insert(0, 'month',  df_wine['datetime'].dt.month) \n",
        "df_wine.insert(0, 'year',  df_wine['datetime'].dt.year) \n",
        "df_wine.insert(0, 'date', pd.to_datetime(df_wine[['year', 'month']].assign(DAY=1))) \n",
        "df_wine = df_wine.drop('datetime', axis=1)\n",
        "df_wine = df_wine.drop('year', axis=1)\n",
        "df_wine = df_wine.drop('month', axis=1)\n",
        "df_wine"
      ],
      "execution_count": null,
      "outputs": [
        {
          "output_type": "execute_result",
          "data": {
            "text/html": [
              "<div>\n",
              "<style scoped>\n",
              "    .dataframe tbody tr th:only-of-type {\n",
              "        vertical-align: middle;\n",
              "    }\n",
              "\n",
              "    .dataframe tbody tr th {\n",
              "        vertical-align: top;\n",
              "    }\n",
              "\n",
              "    .dataframe thead th {\n",
              "        text-align: right;\n",
              "    }\n",
              "</style>\n",
              "<table border=\"1\" class=\"dataframe\">\n",
              "  <thead>\n",
              "    <tr style=\"text-align: right;\">\n",
              "      <th></th>\n",
              "      <th>date</th>\n",
              "      <th>item_id</th>\n",
              "      <th>brand_id</th>\n",
              "      <th>brandfamily_id</th>\n",
              "      <th>package_id</th>\n",
              "      <th>info_id</th>\n",
              "      <th>order_id</th>\n",
              "      <th>user_id</th>\n",
              "      <th>province_id</th>\n",
              "      <th>city_id</th>\n",
              "      <th>quantity</th>\n",
              "    </tr>\n",
              "  </thead>\n",
              "  <tbody>\n",
              "    <tr>\n",
              "      <th>0</th>\n",
              "      <td>2017-01-01</td>\n",
              "      <td>1</td>\n",
              "      <td>6</td>\n",
              "      <td>1</td>\n",
              "      <td>1</td>\n",
              "      <td>3</td>\n",
              "      <td>8806</td>\n",
              "      <td>404</td>\n",
              "      <td>2</td>\n",
              "      <td>19</td>\n",
              "      <td>8.298021</td>\n",
              "    </tr>\n",
              "    <tr>\n",
              "      <th>0</th>\n",
              "      <td>2017-01-01</td>\n",
              "      <td>1</td>\n",
              "      <td>14</td>\n",
              "      <td>1</td>\n",
              "      <td>1</td>\n",
              "      <td>3</td>\n",
              "      <td>8806</td>\n",
              "      <td>404</td>\n",
              "      <td>2</td>\n",
              "      <td>19</td>\n",
              "      <td>8.298021</td>\n",
              "    </tr>\n",
              "    <tr>\n",
              "      <th>1</th>\n",
              "      <td>2017-01-01</td>\n",
              "      <td>1</td>\n",
              "      <td>6</td>\n",
              "      <td>1</td>\n",
              "      <td>1</td>\n",
              "      <td>3</td>\n",
              "      <td>22552</td>\n",
              "      <td>404</td>\n",
              "      <td>2</td>\n",
              "      <td>19</td>\n",
              "      <td>8.298021</td>\n",
              "    </tr>\n",
              "    <tr>\n",
              "      <th>1</th>\n",
              "      <td>2017-01-01</td>\n",
              "      <td>1</td>\n",
              "      <td>14</td>\n",
              "      <td>1</td>\n",
              "      <td>1</td>\n",
              "      <td>3</td>\n",
              "      <td>22552</td>\n",
              "      <td>404</td>\n",
              "      <td>2</td>\n",
              "      <td>19</td>\n",
              "      <td>8.298021</td>\n",
              "    </tr>\n",
              "    <tr>\n",
              "      <th>2</th>\n",
              "      <td>2017-01-01</td>\n",
              "      <td>1</td>\n",
              "      <td>6</td>\n",
              "      <td>1</td>\n",
              "      <td>1</td>\n",
              "      <td>3</td>\n",
              "      <td>54066</td>\n",
              "      <td>395</td>\n",
              "      <td>0</td>\n",
              "      <td>10</td>\n",
              "      <td>0.377183</td>\n",
              "    </tr>\n",
              "    <tr>\n",
              "      <th>...</th>\n",
              "      <td>...</td>\n",
              "      <td>...</td>\n",
              "      <td>...</td>\n",
              "      <td>...</td>\n",
              "      <td>...</td>\n",
              "      <td>...</td>\n",
              "      <td>...</td>\n",
              "      <td>...</td>\n",
              "      <td>...</td>\n",
              "      <td>...</td>\n",
              "      <td>...</td>\n",
              "    </tr>\n",
              "    <tr>\n",
              "      <th>145190</th>\n",
              "      <td>2020-09-01</td>\n",
              "      <td>12</td>\n",
              "      <td>19</td>\n",
              "      <td>3</td>\n",
              "      <td>4</td>\n",
              "      <td>11</td>\n",
              "      <td>52082</td>\n",
              "      <td>18</td>\n",
              "      <td>0</td>\n",
              "      <td>10</td>\n",
              "      <td>3.643725</td>\n",
              "    </tr>\n",
              "    <tr>\n",
              "      <th>145191</th>\n",
              "      <td>2020-09-01</td>\n",
              "      <td>12</td>\n",
              "      <td>19</td>\n",
              "      <td>3</td>\n",
              "      <td>4</td>\n",
              "      <td>11</td>\n",
              "      <td>11453</td>\n",
              "      <td>450</td>\n",
              "      <td>0</td>\n",
              "      <td>10</td>\n",
              "      <td>1.457490</td>\n",
              "    </tr>\n",
              "    <tr>\n",
              "      <th>145192</th>\n",
              "      <td>2020-09-01</td>\n",
              "      <td>12</td>\n",
              "      <td>19</td>\n",
              "      <td>3</td>\n",
              "      <td>4</td>\n",
              "      <td>11</td>\n",
              "      <td>58771</td>\n",
              "      <td>262</td>\n",
              "      <td>0</td>\n",
              "      <td>10</td>\n",
              "      <td>2.914980</td>\n",
              "    </tr>\n",
              "    <tr>\n",
              "      <th>145193</th>\n",
              "      <td>2020-09-01</td>\n",
              "      <td>12</td>\n",
              "      <td>19</td>\n",
              "      <td>3</td>\n",
              "      <td>4</td>\n",
              "      <td>11</td>\n",
              "      <td>33368</td>\n",
              "      <td>248</td>\n",
              "      <td>0</td>\n",
              "      <td>10</td>\n",
              "      <td>1.457490</td>\n",
              "    </tr>\n",
              "    <tr>\n",
              "      <th>145194</th>\n",
              "      <td>2020-09-01</td>\n",
              "      <td>12</td>\n",
              "      <td>19</td>\n",
              "      <td>3</td>\n",
              "      <td>4</td>\n",
              "      <td>11</td>\n",
              "      <td>91984</td>\n",
              "      <td>24</td>\n",
              "      <td>0</td>\n",
              "      <td>10</td>\n",
              "      <td>0.728745</td>\n",
              "    </tr>\n",
              "  </tbody>\n",
              "</table>\n",
              "<p>217723 rows × 11 columns</p>\n",
              "</div>"
            ],
            "text/plain": [
              "             date  item_id  brand_id  ...  province_id  city_id  quantity\n",
              "0      2017-01-01        1         6  ...            2       19  8.298021\n",
              "0      2017-01-01        1        14  ...            2       19  8.298021\n",
              "1      2017-01-01        1         6  ...            2       19  8.298021\n",
              "1      2017-01-01        1        14  ...            2       19  8.298021\n",
              "2      2017-01-01        1         6  ...            0       10  0.377183\n",
              "...           ...      ...       ...  ...          ...      ...       ...\n",
              "145190 2020-09-01       12        19  ...            0       10  3.643725\n",
              "145191 2020-09-01       12        19  ...            0       10  1.457490\n",
              "145192 2020-09-01       12        19  ...            0       10  2.914980\n",
              "145193 2020-09-01       12        19  ...            0       10  1.457490\n",
              "145194 2020-09-01       12        19  ...            0       10  0.728745\n",
              "\n",
              "[217723 rows x 11 columns]"
            ]
          },
          "metadata": {
            "tags": []
          },
          "execution_count": 14
        }
      ]
    },
    {
      "cell_type": "markdown",
      "metadata": {
        "id": "NiDOIyO0NI0I"
      },
      "source": [
        "We split the date into year and month, and combine agian,  as our target is to predict through year and month(day is not important)"
      ]
    },
    {
      "cell_type": "code",
      "metadata": {
        "colab": {
          "base_uri": "https://localhost:8080/",
          "height": 547
        },
        "id": "tOgWCwBFKPWT",
        "outputId": "6b60f1c4-5318-4e55-fea9-2dbc42024ab5"
      },
      "source": [
        "\n",
        "from sklearn.preprocessing import StandardScaler\n",
        "from sklearn import preprocessing\n",
        "print(df_wine.iloc[:,1:10])\n",
        "data_scaled = pd.DataFrame(preprocessing.scale(df_wine.iloc[:,1:10]),columns = df_wine.iloc[:,1:10].columns) \n",
        "df_array = np.array(df_wine.iloc[:,1:10])\n",
        "X_std = StandardScaler().fit_transform(df_array)\n",
        "from sklearn.decomposition import PCA\n",
        "pca = PCA(n_components = 4)\n",
        "principalComponents = pca.fit_transform(X_std)\n",
        "print(\"PCA Variance\",pca.explained_variance_)\n",
        "print(\"PCA Variance\",pca.explained_variance_ratio_)\n",
        "print(\"Cumulative PCA Variance\",np.cumsum(pca.explained_variance_ratio_))\n",
        "principalDf = pd.DataFrame(data = principalComponents)\n",
        "principalDf\n",
        "result = pd.DataFrame(pca.components_,columns=data_scaled.columns)\n",
        "print(result.abs().max(axis=1))\n",
        "result.abs()\n",
        "\n",
        "\n",
        "\n"
      ],
      "execution_count": null,
      "outputs": [
        {
          "output_type": "stream",
          "text": [
            "        item_id  brand_id  brandfamily_id  ...  user_id  province_id  city_id\n",
            "0             1         6               1  ...      404            2       19\n",
            "0             1        14               1  ...      404            2       19\n",
            "1             1         6               1  ...      404            2       19\n",
            "1             1        14               1  ...      404            2       19\n",
            "2             1         6               1  ...      395            0       10\n",
            "...         ...       ...             ...  ...      ...          ...      ...\n",
            "145190       12        19               3  ...       18            0       10\n",
            "145191       12        19               3  ...      450            0       10\n",
            "145192       12        19               3  ...      262            0       10\n",
            "145193       12        19               3  ...      248            0       10\n",
            "145194       12        19               3  ...       24            0       10\n",
            "\n",
            "[217723 rows x 9 columns]\n",
            "PCA Variance [2.195108   1.41419053 1.14127356 1.01680283]\n",
            "PCA Variance [0.24389977 0.15713156 0.12680759 0.11297757]\n",
            "Cumulative PCA Variance [0.24389977 0.40103133 0.52783892 0.64081649]\n",
            "0    0.491384\n",
            "1    0.537006\n",
            "2    0.565828\n",
            "3    0.775233\n",
            "dtype: float64\n"
          ],
          "name": "stdout"
        },
        {
          "output_type": "execute_result",
          "data": {
            "text/html": [
              "<div>\n",
              "<style scoped>\n",
              "    .dataframe tbody tr th:only-of-type {\n",
              "        vertical-align: middle;\n",
              "    }\n",
              "\n",
              "    .dataframe tbody tr th {\n",
              "        vertical-align: top;\n",
              "    }\n",
              "\n",
              "    .dataframe thead th {\n",
              "        text-align: right;\n",
              "    }\n",
              "</style>\n",
              "<table border=\"1\" class=\"dataframe\">\n",
              "  <thead>\n",
              "    <tr style=\"text-align: right;\">\n",
              "      <th></th>\n",
              "      <th>item_id</th>\n",
              "      <th>brand_id</th>\n",
              "      <th>brandfamily_id</th>\n",
              "      <th>package_id</th>\n",
              "      <th>info_id</th>\n",
              "      <th>order_id</th>\n",
              "      <th>user_id</th>\n",
              "      <th>province_id</th>\n",
              "      <th>city_id</th>\n",
              "    </tr>\n",
              "  </thead>\n",
              "  <tbody>\n",
              "    <tr>\n",
              "      <th>0</th>\n",
              "      <td>0.164332</td>\n",
              "      <td>0.215754</td>\n",
              "      <td>0.437702</td>\n",
              "      <td>0.233244</td>\n",
              "      <td>0.461678</td>\n",
              "      <td>0.003648</td>\n",
              "      <td>0.175950</td>\n",
              "      <td>0.491384</td>\n",
              "      <td>0.441455</td>\n",
              "    </tr>\n",
              "    <tr>\n",
              "      <th>1</th>\n",
              "      <td>0.080783</td>\n",
              "      <td>0.362929</td>\n",
              "      <td>0.537006</td>\n",
              "      <td>0.363326</td>\n",
              "      <td>0.290273</td>\n",
              "      <td>0.004152</td>\n",
              "      <td>0.313953</td>\n",
              "      <td>0.415703</td>\n",
              "      <td>0.292786</td>\n",
              "    </tr>\n",
              "    <tr>\n",
              "      <th>2</th>\n",
              "      <td>0.327734</td>\n",
              "      <td>0.565828</td>\n",
              "      <td>0.019998</td>\n",
              "      <td>0.422918</td>\n",
              "      <td>0.420033</td>\n",
              "      <td>0.018186</td>\n",
              "      <td>0.196691</td>\n",
              "      <td>0.094792</td>\n",
              "      <td>0.410778</td>\n",
              "    </tr>\n",
              "    <tr>\n",
              "      <th>3</th>\n",
              "      <td>0.775233</td>\n",
              "      <td>0.151937</td>\n",
              "      <td>0.206385</td>\n",
              "      <td>0.445190</td>\n",
              "      <td>0.326179</td>\n",
              "      <td>0.042459</td>\n",
              "      <td>0.052618</td>\n",
              "      <td>0.118692</td>\n",
              "      <td>0.100434</td>\n",
              "    </tr>\n",
              "  </tbody>\n",
              "</table>\n",
              "</div>"
            ],
            "text/plain": [
              "    item_id  brand_id  brandfamily_id  ...   user_id  province_id   city_id\n",
              "0  0.164332  0.215754        0.437702  ...  0.175950     0.491384  0.441455\n",
              "1  0.080783  0.362929        0.537006  ...  0.313953     0.415703  0.292786\n",
              "2  0.327734  0.565828        0.019998  ...  0.196691     0.094792  0.410778\n",
              "3  0.775233  0.151937        0.206385  ...  0.052618     0.118692  0.100434\n",
              "\n",
              "[4 rows x 9 columns]"
            ]
          },
          "metadata": {
            "tags": []
          },
          "execution_count": 15
        }
      ]
    },
    {
      "cell_type": "markdown",
      "metadata": {
        "id": "k3Gz1B8PVQrI"
      },
      "source": [
        "We know  province_id,  brandfamily_id,  brand_id, item_id are most important features from PCA . As our main target is to predict each item in each province through each month and year, we will try to remove unnecessary columns."
      ]
    },
    {
      "cell_type": "code",
      "metadata": {
        "colab": {
          "base_uri": "https://localhost:8080/",
          "height": 419
        },
        "id": "Tl6Teh2B6S_K",
        "outputId": "44346c8e-9c3a-48c9-dd68-e3893a358e6b"
      },
      "source": [
        "#dimension reduction\n",
        "df_wine = df_wine.drop([ 'package_id', 'info_id', 'order_id', 'user_id', 'city_id'], axis=1)\n",
        "df_wine"
      ],
      "execution_count": null,
      "outputs": [
        {
          "output_type": "execute_result",
          "data": {
            "text/html": [
              "<div>\n",
              "<style scoped>\n",
              "    .dataframe tbody tr th:only-of-type {\n",
              "        vertical-align: middle;\n",
              "    }\n",
              "\n",
              "    .dataframe tbody tr th {\n",
              "        vertical-align: top;\n",
              "    }\n",
              "\n",
              "    .dataframe thead th {\n",
              "        text-align: right;\n",
              "    }\n",
              "</style>\n",
              "<table border=\"1\" class=\"dataframe\">\n",
              "  <thead>\n",
              "    <tr style=\"text-align: right;\">\n",
              "      <th></th>\n",
              "      <th>date</th>\n",
              "      <th>item_id</th>\n",
              "      <th>brand_id</th>\n",
              "      <th>brandfamily_id</th>\n",
              "      <th>province_id</th>\n",
              "      <th>quantity</th>\n",
              "    </tr>\n",
              "  </thead>\n",
              "  <tbody>\n",
              "    <tr>\n",
              "      <th>0</th>\n",
              "      <td>2017-01-01</td>\n",
              "      <td>1</td>\n",
              "      <td>6</td>\n",
              "      <td>1</td>\n",
              "      <td>2</td>\n",
              "      <td>8.298021</td>\n",
              "    </tr>\n",
              "    <tr>\n",
              "      <th>0</th>\n",
              "      <td>2017-01-01</td>\n",
              "      <td>1</td>\n",
              "      <td>14</td>\n",
              "      <td>1</td>\n",
              "      <td>2</td>\n",
              "      <td>8.298021</td>\n",
              "    </tr>\n",
              "    <tr>\n",
              "      <th>1</th>\n",
              "      <td>2017-01-01</td>\n",
              "      <td>1</td>\n",
              "      <td>6</td>\n",
              "      <td>1</td>\n",
              "      <td>2</td>\n",
              "      <td>8.298021</td>\n",
              "    </tr>\n",
              "    <tr>\n",
              "      <th>1</th>\n",
              "      <td>2017-01-01</td>\n",
              "      <td>1</td>\n",
              "      <td>14</td>\n",
              "      <td>1</td>\n",
              "      <td>2</td>\n",
              "      <td>8.298021</td>\n",
              "    </tr>\n",
              "    <tr>\n",
              "      <th>2</th>\n",
              "      <td>2017-01-01</td>\n",
              "      <td>1</td>\n",
              "      <td>6</td>\n",
              "      <td>1</td>\n",
              "      <td>0</td>\n",
              "      <td>0.377183</td>\n",
              "    </tr>\n",
              "    <tr>\n",
              "      <th>...</th>\n",
              "      <td>...</td>\n",
              "      <td>...</td>\n",
              "      <td>...</td>\n",
              "      <td>...</td>\n",
              "      <td>...</td>\n",
              "      <td>...</td>\n",
              "    </tr>\n",
              "    <tr>\n",
              "      <th>145190</th>\n",
              "      <td>2020-09-01</td>\n",
              "      <td>12</td>\n",
              "      <td>19</td>\n",
              "      <td>3</td>\n",
              "      <td>0</td>\n",
              "      <td>3.643725</td>\n",
              "    </tr>\n",
              "    <tr>\n",
              "      <th>145191</th>\n",
              "      <td>2020-09-01</td>\n",
              "      <td>12</td>\n",
              "      <td>19</td>\n",
              "      <td>3</td>\n",
              "      <td>0</td>\n",
              "      <td>1.457490</td>\n",
              "    </tr>\n",
              "    <tr>\n",
              "      <th>145192</th>\n",
              "      <td>2020-09-01</td>\n",
              "      <td>12</td>\n",
              "      <td>19</td>\n",
              "      <td>3</td>\n",
              "      <td>0</td>\n",
              "      <td>2.914980</td>\n",
              "    </tr>\n",
              "    <tr>\n",
              "      <th>145193</th>\n",
              "      <td>2020-09-01</td>\n",
              "      <td>12</td>\n",
              "      <td>19</td>\n",
              "      <td>3</td>\n",
              "      <td>0</td>\n",
              "      <td>1.457490</td>\n",
              "    </tr>\n",
              "    <tr>\n",
              "      <th>145194</th>\n",
              "      <td>2020-09-01</td>\n",
              "      <td>12</td>\n",
              "      <td>19</td>\n",
              "      <td>3</td>\n",
              "      <td>0</td>\n",
              "      <td>0.728745</td>\n",
              "    </tr>\n",
              "  </tbody>\n",
              "</table>\n",
              "<p>217723 rows × 6 columns</p>\n",
              "</div>"
            ],
            "text/plain": [
              "             date  item_id  brand_id  brandfamily_id  province_id  quantity\n",
              "0      2017-01-01        1         6               1            2  8.298021\n",
              "0      2017-01-01        1        14               1            2  8.298021\n",
              "1      2017-01-01        1         6               1            2  8.298021\n",
              "1      2017-01-01        1        14               1            2  8.298021\n",
              "2      2017-01-01        1         6               1            0  0.377183\n",
              "...           ...      ...       ...             ...          ...       ...\n",
              "145190 2020-09-01       12        19               3            0  3.643725\n",
              "145191 2020-09-01       12        19               3            0  1.457490\n",
              "145192 2020-09-01       12        19               3            0  2.914980\n",
              "145193 2020-09-01       12        19               3            0  1.457490\n",
              "145194 2020-09-01       12        19               3            0  0.728745\n",
              "\n",
              "[217723 rows x 6 columns]"
            ]
          },
          "metadata": {
            "tags": []
          },
          "execution_count": 16
        }
      ]
    },
    {
      "cell_type": "markdown",
      "metadata": {
        "id": "YJFQ91bYQOcg"
      },
      "source": [
        "We remove the columns  'package_id', 'info_id', 'order_id', 'user_id', 'city_id' from the tables. They are  insensitive to analysis and also not our anylysis focus in the prediction."
      ]
    },
    {
      "cell_type": "code",
      "metadata": {
        "colab": {
          "base_uri": "https://localhost:8080/",
          "height": 419
        },
        "id": "MXXjkBT65yH4",
        "outputId": "e8b76a94-a741-41a4-acac-38f3ecac2cb3"
      },
      "source": [
        "df_wine = df_wine.groupby(['date', 'province_id', 'item_id','brand_id','brandfamily_id'])['quantity'].sum().reset_index(name='quantity')\n",
        "df_wine\n"
      ],
      "execution_count": null,
      "outputs": [
        {
          "output_type": "execute_result",
          "data": {
            "text/html": [
              "<div>\n",
              "<style scoped>\n",
              "    .dataframe tbody tr th:only-of-type {\n",
              "        vertical-align: middle;\n",
              "    }\n",
              "\n",
              "    .dataframe tbody tr th {\n",
              "        vertical-align: top;\n",
              "    }\n",
              "\n",
              "    .dataframe thead th {\n",
              "        text-align: right;\n",
              "    }\n",
              "</style>\n",
              "<table border=\"1\" class=\"dataframe\">\n",
              "  <thead>\n",
              "    <tr style=\"text-align: right;\">\n",
              "      <th></th>\n",
              "      <th>date</th>\n",
              "      <th>province_id</th>\n",
              "      <th>item_id</th>\n",
              "      <th>brand_id</th>\n",
              "      <th>brandfamily_id</th>\n",
              "      <th>quantity</th>\n",
              "    </tr>\n",
              "  </thead>\n",
              "  <tbody>\n",
              "    <tr>\n",
              "      <th>0</th>\n",
              "      <td>2017-01-01</td>\n",
              "      <td>0</td>\n",
              "      <td>1</td>\n",
              "      <td>6</td>\n",
              "      <td>1</td>\n",
              "      <td>421.313155</td>\n",
              "    </tr>\n",
              "    <tr>\n",
              "      <th>1</th>\n",
              "      <td>2017-01-01</td>\n",
              "      <td>0</td>\n",
              "      <td>1</td>\n",
              "      <td>14</td>\n",
              "      <td>1</td>\n",
              "      <td>421.313155</td>\n",
              "    </tr>\n",
              "    <tr>\n",
              "      <th>2</th>\n",
              "      <td>2017-01-01</td>\n",
              "      <td>0</td>\n",
              "      <td>2</td>\n",
              "      <td>11</td>\n",
              "      <td>5</td>\n",
              "      <td>5.654450</td>\n",
              "    </tr>\n",
              "    <tr>\n",
              "      <th>3</th>\n",
              "      <td>2017-01-01</td>\n",
              "      <td>0</td>\n",
              "      <td>15</td>\n",
              "      <td>6</td>\n",
              "      <td>2</td>\n",
              "      <td>117.478060</td>\n",
              "    </tr>\n",
              "    <tr>\n",
              "      <th>4</th>\n",
              "      <td>2017-01-01</td>\n",
              "      <td>0</td>\n",
              "      <td>15</td>\n",
              "      <td>19</td>\n",
              "      <td>2</td>\n",
              "      <td>117.478060</td>\n",
              "    </tr>\n",
              "    <tr>\n",
              "      <th>...</th>\n",
              "      <td>...</td>\n",
              "      <td>...</td>\n",
              "      <td>...</td>\n",
              "      <td>...</td>\n",
              "      <td>...</td>\n",
              "      <td>...</td>\n",
              "    </tr>\n",
              "    <tr>\n",
              "      <th>8579</th>\n",
              "      <td>2020-12-01</td>\n",
              "      <td>2</td>\n",
              "      <td>109</td>\n",
              "      <td>6</td>\n",
              "      <td>2</td>\n",
              "      <td>46.565716</td>\n",
              "    </tr>\n",
              "    <tr>\n",
              "      <th>8580</th>\n",
              "      <td>2020-12-01</td>\n",
              "      <td>2</td>\n",
              "      <td>109</td>\n",
              "      <td>19</td>\n",
              "      <td>2</td>\n",
              "      <td>46.565716</td>\n",
              "    </tr>\n",
              "    <tr>\n",
              "      <th>8581</th>\n",
              "      <td>2020-12-01</td>\n",
              "      <td>2</td>\n",
              "      <td>110</td>\n",
              "      <td>13</td>\n",
              "      <td>9</td>\n",
              "      <td>128.102211</td>\n",
              "    </tr>\n",
              "    <tr>\n",
              "      <th>8582</th>\n",
              "      <td>2020-12-01</td>\n",
              "      <td>2</td>\n",
              "      <td>111</td>\n",
              "      <td>6</td>\n",
              "      <td>2</td>\n",
              "      <td>23.734884</td>\n",
              "    </tr>\n",
              "    <tr>\n",
              "      <th>8583</th>\n",
              "      <td>2020-12-01</td>\n",
              "      <td>2</td>\n",
              "      <td>111</td>\n",
              "      <td>19</td>\n",
              "      <td>2</td>\n",
              "      <td>23.734884</td>\n",
              "    </tr>\n",
              "  </tbody>\n",
              "</table>\n",
              "<p>8584 rows × 6 columns</p>\n",
              "</div>"
            ],
            "text/plain": [
              "           date  province_id  item_id  brand_id  brandfamily_id    quantity\n",
              "0    2017-01-01            0        1         6               1  421.313155\n",
              "1    2017-01-01            0        1        14               1  421.313155\n",
              "2    2017-01-01            0        2        11               5    5.654450\n",
              "3    2017-01-01            0       15         6               2  117.478060\n",
              "4    2017-01-01            0       15        19               2  117.478060\n",
              "...         ...          ...      ...       ...             ...         ...\n",
              "8579 2020-12-01            2      109         6               2   46.565716\n",
              "8580 2020-12-01            2      109        19               2   46.565716\n",
              "8581 2020-12-01            2      110        13               9  128.102211\n",
              "8582 2020-12-01            2      111         6               2   23.734884\n",
              "8583 2020-12-01            2      111        19               2   23.734884\n",
              "\n",
              "[8584 rows x 6 columns]"
            ]
          },
          "metadata": {
            "tags": []
          },
          "execution_count": 17
        }
      ]
    },
    {
      "cell_type": "markdown",
      "metadata": {
        "id": "UPiJhbIsQkNz"
      },
      "source": [
        "We aggregate the quantity through all remaning columns to get how each item in each province varies through each month and year."
      ]
    },
    {
      "cell_type": "code",
      "metadata": {
        "id": "9wJ2KxatyX2m"
      },
      "source": [
        "import seaborn as sns"
      ],
      "execution_count": null,
      "outputs": []
    },
    {
      "cell_type": "code",
      "metadata": {
        "colab": {
          "base_uri": "https://localhost:8080/",
          "height": 296
        },
        "id": "vs1JAzILwy32",
        "outputId": "c1b84da0-5228-4b29-d78a-e00fb9b80f19"
      },
      "source": [
        "#Visulize Outliers\n",
        "sns.scatterplot(x='date', y='quantity', data=df_wine)\n"
      ],
      "execution_count": null,
      "outputs": [
        {
          "output_type": "execute_result",
          "data": {
            "text/plain": [
              "<matplotlib.axes._subplots.AxesSubplot at 0x7fdd4479ea50>"
            ]
          },
          "metadata": {
            "tags": []
          },
          "execution_count": 144
        },
        {
          "output_type": "display_data",
          "data": {
            "image/png": "[encoded data removed]",
            "text/plain": [
              "<Figure size 432x288 with 1 Axes>"
            ]
          },
          "metadata": {
            "tags": [],
            "needs_background": "light"
          }
        }
      ]
    },
    {
      "cell_type": "code",
      "metadata": {
        "colab": {
          "base_uri": "https://localhost:8080/",
          "height": 297
        },
        "id": "TI-CHiDaSBC-",
        "outputId": "28ef263f-baa5-44b2-a66d-05e79b920aa5"
      },
      "source": [
        "sns.boxplot(x = 'province_id', y='quantity', data=df_wine , width = 0.3, linewidth = 1)"
      ],
      "execution_count": null,
      "outputs": [
        {
          "output_type": "execute_result",
          "data": {
            "text/plain": [
              "<matplotlib.axes._subplots.AxesSubplot at 0x7fdd447212d0>"
            ]
          },
          "metadata": {
            "tags": []
          },
          "execution_count": 145
        },
        {
          "output_type": "display_data",
          "data": {
            "image/png": "[encoded data removed]",
            "text/plain": [
              "<Figure size 432x288 with 1 Axes>"
            ]
          },
          "metadata": {
            "tags": [],
            "needs_background": "light"
          }
        }
      ]
    },
    {
      "cell_type": "code",
      "metadata": {
        "colab": {
          "base_uri": "https://localhost:8080/",
          "height": 401
        },
        "id": "hJZOuNbQdNgs",
        "outputId": "fa3b48d2-fed5-40df-d7e4-a8efdad02c42"
      },
      "source": [
        "# Violin plots\n",
        "sns.catplot(x = 'province_id', y='quantity', data=df_wine, kind=\"violin\")"
      ],
      "execution_count": null,
      "outputs": [
        {
          "output_type": "execute_result",
          "data": {
            "text/plain": [
              "<seaborn.axisgrid.FacetGrid at 0x7fdd446ac050>"
            ]
          },
          "metadata": {
            "tags": []
          },
          "execution_count": 146
        },
        {
          "output_type": "display_data",
          "data": {
            "image/png": "[encoded data removed]",
            "text/plain": [
              "<Figure size 360x360 with 1 Axes>"
            ]
          },
          "metadata": {
            "tags": [],
            "needs_background": "light"
          }
        }
      ]
    },
    {
      "cell_type": "markdown",
      "metadata": {
        "id": "7FEP9JalS8PM"
      },
      "source": [
        "Obviouslly the graphs look not normal and has a lot of outliers and one side, we need to handle them immediatelly"
      ]
    },
    {
      "cell_type": "code",
      "metadata": {
        "colab": {
          "base_uri": "https://localhost:8080/",
          "height": 419
        },
        "id": "iYJDBB5uaIwp",
        "outputId": "d349d40f-ed3f-4273-a1b1-a1f1da05ad5d"
      },
      "source": [
        "Q1 = df_wine['quantity'].quantile(0.25)\n",
        "Q3 = df_wine['quantity'].quantile(0.75)\n",
        "IQR = Q3 - Q1\n",
        "index = df_wine[(df_wine['quantity'] < (Q1 - 1.5 * IQR)) |(df_wine['quantity'] > (Q3 + 1.5 * IQR))].index\n",
        "df_wine.drop(index, inplace=True)\n",
        "df_wine"
      ],
      "execution_count": null,
      "outputs": [
        {
          "output_type": "execute_result",
          "data": {
            "text/html": [
              "<div>\n",
              "<style scoped>\n",
              "    .dataframe tbody tr th:only-of-type {\n",
              "        vertical-align: middle;\n",
              "    }\n",
              "\n",
              "    .dataframe tbody tr th {\n",
              "        vertical-align: top;\n",
              "    }\n",
              "\n",
              "    .dataframe thead th {\n",
              "        text-align: right;\n",
              "    }\n",
              "</style>\n",
              "<table border=\"1\" class=\"dataframe\">\n",
              "  <thead>\n",
              "    <tr style=\"text-align: right;\">\n",
              "      <th></th>\n",
              "      <th>date</th>\n",
              "      <th>province_id</th>\n",
              "      <th>item_id</th>\n",
              "      <th>brand_id</th>\n",
              "      <th>brandfamily_id</th>\n",
              "      <th>quantity</th>\n",
              "    </tr>\n",
              "  </thead>\n",
              "  <tbody>\n",
              "    <tr>\n",
              "      <th>2</th>\n",
              "      <td>2017-01-01</td>\n",
              "      <td>0</td>\n",
              "      <td>2</td>\n",
              "      <td>11</td>\n",
              "      <td>5</td>\n",
              "      <td>5.654450</td>\n",
              "    </tr>\n",
              "    <tr>\n",
              "      <th>3</th>\n",
              "      <td>2017-01-01</td>\n",
              "      <td>0</td>\n",
              "      <td>15</td>\n",
              "      <td>6</td>\n",
              "      <td>2</td>\n",
              "      <td>117.478060</td>\n",
              "    </tr>\n",
              "    <tr>\n",
              "      <th>4</th>\n",
              "      <td>2017-01-01</td>\n",
              "      <td>0</td>\n",
              "      <td>15</td>\n",
              "      <td>19</td>\n",
              "      <td>2</td>\n",
              "      <td>117.478060</td>\n",
              "    </tr>\n",
              "    <tr>\n",
              "      <th>5</th>\n",
              "      <td>2017-01-01</td>\n",
              "      <td>0</td>\n",
              "      <td>18</td>\n",
              "      <td>19</td>\n",
              "      <td>3</td>\n",
              "      <td>57.459522</td>\n",
              "    </tr>\n",
              "    <tr>\n",
              "      <th>6</th>\n",
              "      <td>2017-01-01</td>\n",
              "      <td>0</td>\n",
              "      <td>19</td>\n",
              "      <td>11</td>\n",
              "      <td>5</td>\n",
              "      <td>43.250291</td>\n",
              "    </tr>\n",
              "    <tr>\n",
              "      <th>...</th>\n",
              "      <td>...</td>\n",
              "      <td>...</td>\n",
              "      <td>...</td>\n",
              "      <td>...</td>\n",
              "      <td>...</td>\n",
              "      <td>...</td>\n",
              "    </tr>\n",
              "    <tr>\n",
              "      <th>8579</th>\n",
              "      <td>2020-12-01</td>\n",
              "      <td>2</td>\n",
              "      <td>109</td>\n",
              "      <td>6</td>\n",
              "      <td>2</td>\n",
              "      <td>46.565716</td>\n",
              "    </tr>\n",
              "    <tr>\n",
              "      <th>8580</th>\n",
              "      <td>2020-12-01</td>\n",
              "      <td>2</td>\n",
              "      <td>109</td>\n",
              "      <td>19</td>\n",
              "      <td>2</td>\n",
              "      <td>46.565716</td>\n",
              "    </tr>\n",
              "    <tr>\n",
              "      <th>8581</th>\n",
              "      <td>2020-12-01</td>\n",
              "      <td>2</td>\n",
              "      <td>110</td>\n",
              "      <td>13</td>\n",
              "      <td>9</td>\n",
              "      <td>128.102211</td>\n",
              "    </tr>\n",
              "    <tr>\n",
              "      <th>8582</th>\n",
              "      <td>2020-12-01</td>\n",
              "      <td>2</td>\n",
              "      <td>111</td>\n",
              "      <td>6</td>\n",
              "      <td>2</td>\n",
              "      <td>23.734884</td>\n",
              "    </tr>\n",
              "    <tr>\n",
              "      <th>8583</th>\n",
              "      <td>2020-12-01</td>\n",
              "      <td>2</td>\n",
              "      <td>111</td>\n",
              "      <td>19</td>\n",
              "      <td>2</td>\n",
              "      <td>23.734884</td>\n",
              "    </tr>\n",
              "  </tbody>\n",
              "</table>\n",
              "<p>7451 rows × 6 columns</p>\n",
              "</div>"
            ],
            "text/plain": [
              "           date  province_id  item_id  brand_id  brandfamily_id    quantity\n",
              "2    2017-01-01            0        2        11               5    5.654450\n",
              "3    2017-01-01            0       15         6               2  117.478060\n",
              "4    2017-01-01            0       15        19               2  117.478060\n",
              "5    2017-01-01            0       18        19               3   57.459522\n",
              "6    2017-01-01            0       19        11               5   43.250291\n",
              "...         ...          ...      ...       ...             ...         ...\n",
              "8579 2020-12-01            2      109         6               2   46.565716\n",
              "8580 2020-12-01            2      109        19               2   46.565716\n",
              "8581 2020-12-01            2      110        13               9  128.102211\n",
              "8582 2020-12-01            2      111         6               2   23.734884\n",
              "8583 2020-12-01            2      111        19               2   23.734884\n",
              "\n",
              "[7451 rows x 6 columns]"
            ]
          },
          "metadata": {
            "tags": []
          },
          "execution_count": 147
        }
      ]
    },
    {
      "cell_type": "markdown",
      "metadata": {
        "id": "9VuT2DfvVKkU"
      },
      "source": [
        "Through outliers drop we remove around  1100 rows through the IQR rule. We then check through visulization agian."
      ]
    },
    {
      "cell_type": "code",
      "metadata": {
        "colab": {
          "base_uri": "https://localhost:8080/",
          "height": 296
        },
        "id": "otU0taNDVUXX",
        "outputId": "54e02f23-26d5-456a-8994-36bd417cb941"
      },
      "source": [
        "sns.scatterplot(x='date', y='quantity', data=df_wine)"
      ],
      "execution_count": null,
      "outputs": [
        {
          "output_type": "execute_result",
          "data": {
            "text/plain": [
              "<matplotlib.axes._subplots.AxesSubplot at 0x7fdd44619ed0>"
            ]
          },
          "metadata": {
            "tags": []
          },
          "execution_count": 148
        },
        {
          "output_type": "display_data",
          "data": {
            "image/png": "[encoded data removed]",
            "text/plain": [
              "<Figure size 432x288 with 1 Axes>"
            ]
          },
          "metadata": {
            "tags": [],
            "needs_background": "light"
          }
        }
      ]
    },
    {
      "cell_type": "code",
      "metadata": {
        "colab": {
          "base_uri": "https://localhost:8080/",
          "height": 297
        },
        "id": "2lB3ZUXSVYO9",
        "outputId": "408b8d9b-7511-41eb-d70e-fafabd0713b9"
      },
      "source": [
        "sns.boxplot(x = 'province_id', y='quantity', data=df_wine , width = 0.3, linewidth = 1)"
      ],
      "execution_count": null,
      "outputs": [
        {
          "output_type": "execute_result",
          "data": {
            "text/plain": [
              "<matplotlib.axes._subplots.AxesSubplot at 0x7fdd44629690>"
            ]
          },
          "metadata": {
            "tags": []
          },
          "execution_count": 149
        },
        {
          "output_type": "display_data",
          "data": {
            "image/png": "[encoded data removed]",
            "text/plain": [
              "<Figure size 432x288 with 1 Axes>"
            ]
          },
          "metadata": {
            "tags": [],
            "needs_background": "light"
          }
        }
      ]
    },
    {
      "cell_type": "code",
      "metadata": {
        "colab": {
          "base_uri": "https://localhost:8080/",
          "height": 401
        },
        "id": "FMY3Lx0NVcPf",
        "outputId": "54648b7f-db44-4684-ca3c-5a60965d0f49"
      },
      "source": [
        "sns.catplot(x = 'province_id', y='quantity', data=df_wine, kind=\"violin\")"
      ],
      "execution_count": null,
      "outputs": [
        {
          "output_type": "execute_result",
          "data": {
            "text/plain": [
              "<seaborn.axisgrid.FacetGrid at 0x7fdd446a7a10>"
            ]
          },
          "metadata": {
            "tags": []
          },
          "execution_count": 150
        },
        {
          "output_type": "display_data",
          "data": {
            "image/png": "[encoded data removed]",
            "text/plain": [
              "<Figure size 360x360 with 1 Axes>"
            ]
          },
          "metadata": {
            "tags": [],
            "needs_background": "light"
          }
        }
      ]
    },
    {
      "cell_type": "markdown",
      "metadata": {
        "id": "ZlhZ5bE-Vd-r"
      },
      "source": [
        "We still get some quantities whcih are large. However, the overall perfomence is much better. There are much fewer values beyond."
      ]
    },
    {
      "cell_type": "code",
      "metadata": {
        "id": "S8xsKEE91DOi",
        "colab": {
          "base_uri": "https://localhost:8080/",
          "height": 386
        },
        "outputId": "0c26f721-b136-4775-9628-595d4f5b73df"
      },
      "source": [
        "#Data Visulization\n",
        "\n",
        "sns.displot(df_wine, x='quantity', kind = 'kde',bw_adjust = 5)"
      ],
      "execution_count": null,
      "outputs": [
        {
          "output_type": "execute_result",
          "data": {
            "text/plain": [
              "<seaborn.axisgrid.FacetGrid at 0x7fdd4445eb50>"
            ]
          },
          "metadata": {
            "tags": []
          },
          "execution_count": 151
        },
        {
          "output_type": "display_data",
          "data": {
            "image/png": "[encoded data removed]",
            "text/plain": [
              "<Figure size 360x360 with 1 Axes>"
            ]
          },
          "metadata": {
            "tags": [],
            "needs_background": "light"
          }
        }
      ]
    },
    {
      "cell_type": "markdown",
      "metadata": {
        "id": "ZuMi46JWXHwq"
      },
      "source": [
        "From density plot of quantity, we see that most quantity are small and near 0, only a small part are large"
      ]
    },
    {
      "cell_type": "code",
      "metadata": {
        "colab": {
          "base_uri": "https://localhost:8080/",
          "height": 297
        },
        "id": "nMM2Np8QR0Vx",
        "outputId": "84d236ea-1641-43ae-e3ca-b436e8bdd200"
      },
      "source": [
        "sns.histplot(df_wine, x='item_id', binwidth = 3, bins=df_wine['item_id'].nunique())"
      ],
      "execution_count": null,
      "outputs": [
        {
          "output_type": "execute_result",
          "data": {
            "text/plain": [
              "<matplotlib.axes._subplots.AxesSubplot at 0x7fdd4441e490>"
            ]
          },
          "metadata": {
            "tags": []
          },
          "execution_count": 152
        },
        {
          "output_type": "display_data",
          "data": {
            "image/png": "[encoded data removed]",
            "text/plain": [
              "<Figure size 432x288 with 1 Axes>"
            ]
          },
          "metadata": {
            "tags": [],
            "needs_background": "light"
          }
        }
      ]
    },
    {
      "cell_type": "markdown",
      "metadata": {
        "id": "oFtsbB_vXXqG"
      },
      "source": [
        "We plot the histgrams through id and find there is huge difference between each item. "
      ]
    },
    {
      "cell_type": "code",
      "metadata": {
        "colab": {
          "base_uri": "https://localhost:8080/",
          "height": 401
        },
        "id": "RRldw0MhbwGx",
        "outputId": "9cdd696e-ffb9-4eb2-9756-346467c0ff28"
      },
      "source": [
        "sns.catplot(x='province_id', y='quantity', kind=\"bar\", data=df_wine)"
      ],
      "execution_count": null,
      "outputs": [
        {
          "output_type": "execute_result",
          "data": {
            "text/plain": [
              "<seaborn.axisgrid.FacetGrid at 0x7fdd443873d0>"
            ]
          },
          "metadata": {
            "tags": []
          },
          "execution_count": 154
        },
        {
          "output_type": "display_data",
          "data": {
            "image/png": "[encoded data removed]",
            "text/plain": [
              "<Figure size 360x360 with 1 Axes>"
            ]
          },
          "metadata": {
            "tags": [],
            "needs_background": "light"
          }
        }
      ]
    },
    {
      "cell_type": "markdown",
      "metadata": {
        "id": "g_CM1_ECb6Nh"
      },
      "source": [
        "Use bar chart we find that province 0 has most quantities, follwed by province 2. Province 1 has least quantity."
      ]
    },
    {
      "cell_type": "code",
      "metadata": {
        "colab": {
          "base_uri": "https://localhost:8080/",
          "height": 351
        },
        "id": "y3xr2M5kciWP",
        "outputId": "1c2151a1-bacf-40b3-a0fc-73e0959a2525"
      },
      "source": [
        "sns.heatmap(df_wine.corr(), annot=True, cmap=\"Blues\")\n"
      ],
      "execution_count": null,
      "outputs": [
        {
          "output_type": "execute_result",
          "data": {
            "text/plain": [
              "<matplotlib.axes._subplots.AxesSubplot at 0x7fdd440cfe10>"
            ]
          },
          "metadata": {
            "tags": []
          },
          "execution_count": 157
        },
        {
          "output_type": "display_data",
          "data": {
            "image/png": "[encoded data removed]",
            "text/plain": [
              "<Figure size 432x288 with 2 Axes>"
            ]
          },
          "metadata": {
            "tags": [],
            "needs_background": "light"
          }
        }
      ]
    },
    {
      "cell_type": "markdown",
      "metadata": {
        "id": "h_AIdS6-dl0O"
      },
      "source": [
        "From the heatmap, we find that there is not much direct relationship between each predictor(and also quantity). We can say they are almost indenpendent with each other."
      ]
    },
    {
      "cell_type": "code",
      "metadata": {
        "colab": {
          "base_uri": "https://localhost:8080/",
          "height": 296
        },
        "id": "PtdIwR7-eQX2",
        "outputId": "05f8e2d0-0b94-4954-d283-cdbf5aaee022"
      },
      "source": [
        "sns.lineplot(data = df_wine, x='date', y='quantity')"
      ],
      "execution_count": null,
      "outputs": [
        {
          "output_type": "execute_result",
          "data": {
            "text/plain": [
              "<matplotlib.axes._subplots.AxesSubplot at 0x7fdd43f2d050>"
            ]
          },
          "metadata": {
            "tags": []
          },
          "execution_count": 159
        },
        {
          "output_type": "display_data",
          "data": {
            "image/png": "[encoded data removed]",
            "text/plain": [
              "<Figure size 432x288 with 1 Axes>"
            ]
          },
          "metadata": {
            "tags": [],
            "needs_background": "light"
          }
        }
      ]
    },
    {
      "cell_type": "markdown",
      "metadata": {
        "id": "PprvJhxzetfw"
      },
      "source": [
        "We have a sense of how overall quantity varies with month and year. It drops sharplly at begenning of Covid-19,(2020-01), then recovers."
      ]
    },
    {
      "cell_type": "code",
      "metadata": {
        "colab": {
          "base_uri": "https://localhost:8080/"
        },
        "id": "AzIGqYu5frDC",
        "outputId": "62d10fb7-5ec2-4ac5-a352-7e8a92693885"
      },
      "source": [
        "from google.colab import drive\n",
        "drive.mount('drive')\n",
        "#df_wine.to_csv('My Drive/Colab Notebooks/IE7275/Project/wine.csv')\n",
        "df_wine.to_csv('/content/drive/MyDrive/Colab Notebooks/IE7275/Project/wine.csv')"
      ],
      "execution_count": null,
      "outputs": [
        {
          "output_type": "stream",
          "text": [
            "Drive already mounted at drive; to attempt to forcibly remount, call drive.mount(\"drive\", force_remount=True).\n"
          ],
          "name": "stdout"
        }
      ]
    },
    {
      "cell_type": "markdown",
      "metadata": {
        "id": "aQaq6DiYi_ZR"
      },
      "source": [
        "Save the new table to google drive and download in convenience of future use."
      ]
    }
  ]
}